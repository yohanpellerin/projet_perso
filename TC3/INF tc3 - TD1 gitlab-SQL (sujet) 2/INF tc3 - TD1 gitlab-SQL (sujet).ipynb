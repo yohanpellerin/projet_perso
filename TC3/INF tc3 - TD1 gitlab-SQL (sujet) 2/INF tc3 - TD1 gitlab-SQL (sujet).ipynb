{
 "cells": [
  {
   "cell_type": "markdown",
   "metadata": {},
   "source": [
    "## <center style=\"color: #66d\">Gestion du projet avec gitlab / Récupération des données du projet</center>"
   ]
  },
  {
   "cell_type": "markdown",
   "metadata": {},
   "source": [
    "Dans le cadre de ce TD :\n",
    "* Vous utiliserez le serveur _gitlab_ de l'Ecole Centrale pour créer un environnement de développement collaboratif pour votre projet.\n",
    "* Vous récupérerez une base SQLite avec les données de votre projet, prendrez possession du code ayant permis l'obtention de ces données, et envisagerez éventuellement de les compléter avec d'autres informations."
   ]
  },
  {
   "cell_type": "markdown",
   "metadata": {},
   "source": [
    "### 1. Gestion du projet avec gitlab (45 min.)"
   ]
  },
  {
   "cell_type": "markdown",
   "metadata": {},
   "source": [
    "Vous avez constitué avant ce TD un groupe de projet avec 4 ou 5 camarades. Si ce n'est pas le cas, dépéchez-vous d'aller vous inscrire sur : \"http://pedagogie1.ec-lyon.fr/\" section \"Inscription aux sous-groupes de projet\"\n",
    "\n",
    "Pour bien gérer le développement collaboratif de votre projet vous devrez utiliser le <a href=\"https://gitlab.ec-lyon.fr/\">serveur gitlab de l'Ecole Centrale</a>. L'usage de gitlab par __tous__ les membres du groupe de projet fera partie des critères d'évaluation."
   ]
  },
  {
   "cell_type": "markdown",
   "metadata": {},
   "source": [
    "__1.1. Prise en main de gitlab et de GitHub Desktop : (15mn)__\n",
    "\n",
    "Si vous ne l'avez pas déjà fait dans le cours INF tc2...\n",
    "<div style=\"background-color:#eef;padding:10px;border-radius:3px\">\n",
    "Suivez le <a href=\"https://gitlab.ec-lyon.fr/sderrode/INF-TC2/-/blob/master/tuto-git-gitlab/tuto-git-gitlab.md\"> tutoriel de prise en main de gitlab et de l'outil GitHub Desktop</a> "
   ]
  },
  {
   "cell_type": "markdown",
   "metadata": {},
   "source": [
    "A la suite de ce tutoriel vous devez disposer :\n",
    "* d'un compte personnel opérationnel sur le serveur gitlab de l'Ecole : \"https://gitlab.ec-lyon.fr\"\n",
    "* du logiciel GitHub Desktop installé sur votre machine"
   ]
  },
  {
   "cell_type": "markdown",
   "metadata": {},
   "source": [
    "__1.2. Création de votre environnement de projet : (15mn)__\n",
    "\n",
    "Dans votre groupe un des membres (appelons-le <i>chef de projet</i>) va créer le dépôt de travail sur son espace personnel dans \"https://gitlab.ec-lyon.fr\" et le partager avec les autres membres du groupe.\n",
    "\n",
    "<div style=\"background-color:#eef;padding:10px;border-radius:3px\">\n",
    "Le <i>chef de projet</i> :<ul>\n",
    "<li>Crée un nouveau projet dans son espace personnel sur \"gitlab.ec-lyon.fr\". L'accès à ce projet devra être réglé sur \"<b>private</b>\".\n",
    "           <li>En créant ce projet, il crée un fichier README.MD contenant le titre du sujet et son nom sur une 2ème ligne. \n",
    "    <li>Dans l'onglet \"membres\" il invite les autres membres du groupe <b>ainsi que le chargé de TD</b> en leur donnant le statut \"<b>developer</b>\"\n",
    "\n",
    "</ul>\n",
    "    </div>\n",
    "    <br>\n",
    "    <div style=\"background-color:#eef;padding:10px;border-radius:3px\">\n",
    "    <p><i>Tous les membres</i> :<ul> \n",
    "    <li>Vérifient qu'ils ont bien les droits suffisants sur cet espace\n",
    "    <li>Avec <i>Github Desktop</i> (ou les commandes <i>git</i> pour ceux qui maitrisent), clonent ce dossier sur leur ordinateur personnel.\n",
    "    </ul>\n",
    "     </div>\n"
   ]
  },
  {
   "cell_type": "markdown",
   "metadata": {},
   "source": [
    "Le _chef de projet_ doit communiquer au plus tôt au chargé de TD l'adresse du dépôt gitlab du projet."
   ]
  },
  {
   "cell_type": "markdown",
   "metadata": {},
   "source": [
    "__1.3 Worflow de travail collaboratif : (15mn)__\n",
    "\n",
    "Il faut d'abord répartir les rôles au sein de votre groupe et savoir \"qui fait quoi\". Le consigner par écrit, par exemple dans une page de wiki du dépôt, est probablement une bonne idée.\n",
    "\n",
    "Ensuite chaque membre du groupe travaille sur une copie locale sur sa machine. Lorsqu'il estime avoir atteint un niveau suffisament stable de son code, il fait un _commit_ puis un _push_ pour publier ses modifications sur le dépôt gitlab. Les autres peuvent alors faire un _pull_ pour récupérer la mise à jour.\n",
    "\n",
    "L'approche la plus simple consiste à autoriser les \"developer\" a _pusher_ directement dans la branche _master_. \n",
    "\n",
    "<div style=\"background-color:#eef;padding:10px;border-radius:3px\">\n",
    "Pour cela, le <i>chef de projet</i> doit éditer les permissions sur cette branche :<ul>\n",
    "<li> dans l'interface de gitlab, ouvrir le menu \"Settings | Repository\"\n",
    "<li> dans la section \"Protected branches\", dans le tableau cliquer sur le bouton \"Unprotect\" pour la branche <i>master</i>\n",
    "    </ul>\n",
    "</div>"
   ]
  },
  {
   "cell_type": "markdown",
   "metadata": {},
   "source": [
    "Sinon (fonctionnement par défaut), avec le statut \"developer\", les membres doivent créer une nouvelle branche à chaque _push_ et doivent demander un _merge request_ pour que le _chef de projet_ (qui a le statut \"maintener\") fasse la fusion avec la branche \"master\". S'il y a des conflits à la fusion, le _chef de projet_ doit les régler pour finaliser le _merge_\n",
    "\n",
    "Alternativement le _chef de projet_ peut donner le statut \"maintener\" à tous les membres du groupe (ce qui donne tous les droits à tout le monde) mais à ses riques et périls :-)"
   ]
  },
  {
   "cell_type": "markdown",
   "metadata": {},
   "source": [
    "<div style=\"background-color:#eef;padding:10px;border-radius:3px\">\n",
    "    Pour tester le workflow, faites l'exercice suivant.\n",
    "Pour chaque membre :<ul>\n",
    "    <li>Faire un <i>pull</i> du dépôt avec <i>Github Desktop</i> (normalement déjà fait par le <i>clone</i> à la section 1.2) \n",
    "    <li>Editer en local le fichier README.MD avec un éditeur de texte pour rajouter son nom sur une nouvelle ligne à la fin du fichier\n",
    "    <li>Faire un <i>commit</i> de ses changements avec <i>Github Desktop</i>\n",
    "    <li>Faire un <i>push</i> de ses modifications sur le dépôt du projet. Si d'autres membres ont fait un <i>push</i> avant vous, vous serez obligé de refaire un <i>pull</i> de ces modifications pour vous resynchroniser avec le dépôt. Dans ce cas vous devrez d'abord résoudre les éventuels <i>merge conflicts</i> avec l'éditeur de <i>Github Desktop</i> avant de pouvoir retenter votre <i>push</i>...\n",
    "</ul>\n",
    "    </div>"
   ]
  },
  {
   "cell_type": "markdown",
   "metadata": {},
   "source": [
    "<div>Après cet exercice vous savez :\n",
    "<ul>\n",
    "<li>Récupérer la version à jour du projet depuis le dépôt gitlab centralisé,</li>\n",
    "<li>Effectuer des modifications, et tester le code sur votre machine,</li>\n",
    "<li><em>Committer</em> vos modifications sur le dépôt local sur votre machine,</li>\n",
    "<li><em>Pusher</em> votre dépôt local, en réglant les éventuels <em>merge conflicts</em>, vers le dépôt gitlab centralisé pour le mettre à jour et rendre vos modifications accessibles aux membres de votre groupe.</li>\n",
    "</ul>\n",
    "</div>"
   ]
  },
  {
   "cell_type": "markdown",
   "metadata": {},
   "source": [
    "### 2. Prise en main de la base SQLite avec les données de votre projet (1h 15 min.)"
   ]
  },
  {
   "cell_type": "markdown",
   "metadata": {},
   "source": [
    "Une base de données au format SQLite _(fichier .sqlite)_ est fournie pour chacun des projets. Comme vu en INF-tc2, toutes les opérations sur une base de données de ce type peuvent être effectuées depuis Python via le module _sqlite3_.\n",
    "\n",
    "<p>Liste des bases de données :</p>\n",
    "<ul>\n",
    "<li><code>volcans/volcans.db  -</code> Projet A : Volcans remarquables</li>\n",
    "<li><code>sites/sites.db      -</code>  Projet B : Sites classés de l'Unesco</li>\n",
    "<li><code>tours/tours.db      -</code> Projet C : Tours les plus hautes</li>\n",
    "<li><code>ponts/ponts.db      -</code> Projet D : Ponts autour du monde</li>\n",
    "<li><code>lieux/lieux.db      -</code> Projet E : Lieux historiques</li>\n",
    "</ul>\n"
   ]
  },
  {
   "cell_type": "markdown",
   "metadata": {},
   "source": [
    "__2.1. Prise en main de votre base de données : (15mn)__\n",
    "<p>\n",
    "Pour analyser le contenu de la base, pour tester les requêtes SQL avant de les implémenter en Python, et pour vérifier le bon fonctionnement de votre application en inspectant les résultats dans la base, l'outil \"DB Browser for SQLite\" sera bien utile.\n",
    "</p>\n",
    "<div style=\"background-color:#eef;padding:10px;border-radius:3px\">\n",
    "Si vous ne l'avez pas déjà installé dans le cadre des TDs INF tc2, télécharger et installer <a href=\"http://sqlitebrowser.org/\">DB Browser for SQLite</a> en suivant les instructions d'installation en fonction de votre système d'exploitation.\n",
    "<p>\n",
    "Démarrer DB Browser for SQLite et inspecter le contenu de la base fournie.\n",
    "</p>\n",
    "</div>"
   ]
  },
  {
   "cell_type": "markdown",
   "metadata": {},
   "source": [
    "__2.2. Quelques requêtes SQL : (30mn)__\n",
    "\n",
    "<div style=\"background-color:#eef;padding:10px;border-radius:3px\">\n",
    "En vous référant au travail effectué en INF tc2, effectuer via Python des requêtes simples sur les bases fournies (chaque groupe travaille sur la base correspondant à <u>son</u> projet), et afficher les résultats dans le notebook.\n",
    "<p style=\"margin-top: 0.5em\">\n",
    "Exemples :\n",
    "<ul>\n",
    "<li>nombre d'enregistrements dans votre base,\n",
    "<li>coordonnées géographiques d'un point d'intérêt donné,\n",
    "<li>en fonction du projet : \n",
    "<ul>\n",
    "<li>liste des volcans dont la dernière éruption s'est faite il y a moins d'un siècle,\n",
    "<li>des ponts qui font plus de 10 km de long,\n",
    "<li>des tours qui font plus de 250 m de hauteur,\n",
    "<li>des sites classés de l'hémisphère Sud,\n",
    "<li>ou des lieux historiques du 20ème siècle.\n",
    "</ul>\n",
    "</ul>\n",
    "</div>"
   ]
  },
  {
   "cell_type": "code",
   "execution_count": 1,
   "metadata": {
    "scrolled": true,
    "util.bundle": "correcteur"
   },
   "outputs": [],
   "source": [
    "# votre code ici"
   ]
  },
  {
   "cell_type": "code",
   "execution_count": 2,
   "metadata": {
    "util.bundle": "correcteur"
   },
   "outputs": [],
   "source": [
    "# votre code ici"
   ]
  },
  {
   "cell_type": "code",
   "execution_count": 3,
   "metadata": {
    "util.bundle": "correcteur"
   },
   "outputs": [],
   "source": [
    "# votre code ici"
   ]
  },
  {
   "cell_type": "code",
   "execution_count": 4,
   "metadata": {
    "util.bundle": "correcteur"
   },
   "outputs": [],
   "source": [
    "# votre code ici"
   ]
  },
  {
   "cell_type": "code",
   "execution_count": 5,
   "metadata": {
    "util.bundle": "correcteur"
   },
   "outputs": [],
   "source": [
    "# votre code ici"
   ]
  },
  {
   "cell_type": "markdown",
   "metadata": {},
   "source": [
    "__2.3 Origine et méthode d'obtention des données : (30mn)__\n",
    "\n",
    "<p>Le notebook ayant permis d'obtenir ces données vous est fourni. Il contient des explications sur la source des données, la méthode d'obtention, et l'ensemble des cellules de code qui permettent de récupérer les données, de les filtrer, de les nettoyer, de créer et d'alimenter la base.</p>\n",
    "\n",
    "<p>Liste des notebooks :</p>\n",
    "<ul>\n",
    "<li>Projet A - <a href=\"volcans/Volcans remarquables.ipynb\">Volcans remarquables</a></li>\n",
    "<li>Projet B - <a href=\"sites/Sites classés de l'Unesco.ipynb\">Sites classés de l'Unesco</a></li>\n",
    "<li>Projet C - <a href=\"tours/Tours les plus hautes.ipynb\">Tours les plus hautes</a></li>\n",
    "<li>Projet D - <a href=\"ponts/Ponts autour du monde.ipynb\">Ponts autour du monde</a></li>\n",
    "<li>Projet E - <a href=\"lieux/Lieux historiques.ipynb\">Lieux historiques</a></li>\n",
    "</ul>\n",
    "\n",
    "\n"
   ]
  },
  {
   "cell_type": "markdown",
   "metadata": {},
   "source": [
    "<div style=\"background-color:#eef;padding:10px;border-radius:3px\">\n",
    "Consulter le notebook relatif à votre projet.\n",
    "</div>"
   ]
  },
  {
   "cell_type": "markdown",
   "metadata": {},
   "source": [
    "### 3. Complément, modification, correction du jeu de données\n",
    "\n",
    "\n",
    "<p>Cela n'est pas nécessaire dans l'immédiat, mais si vous désirez compléter et/ou modifier vos données dans le cadre de votre projet, vous devrez modifier et compléter le code présent dans le notebook fourni.</p> "
   ]
  },
  {
   "cell_type": "code",
   "execution_count": 6,
   "metadata": {
    "collapsed": true
   },
   "outputs": [],
   "source": []
  }
 ],
 "metadata": {
  "kernelspec": {
   "display_name": "Python 3",
   "language": "python",
   "name": "python3"
  },
  "language_info": {
   "codemirror_mode": {
    "name": "ipython",
    "version": 3
   },
   "file_extension": ".py",
   "mimetype": "text/x-python",
   "name": "python",
   "nbconvert_exporter": "python",
   "pygments_lexer": "ipython3",
   "version": "3.8.8"
  }
 },
 "nbformat": 4,
 "nbformat_minor": 2
}
