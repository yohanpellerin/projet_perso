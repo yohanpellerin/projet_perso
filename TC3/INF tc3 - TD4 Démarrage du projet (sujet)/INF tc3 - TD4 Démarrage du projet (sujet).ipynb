{
 "cells": [
  {
   "cell_type": "markdown",
   "metadata": {},
   "source": [
    "#    <center>Informatique tc3 (Projet Web) - TD4</center>"
   ]
  },
  {
   "cell_type": "markdown",
   "metadata": {},
   "source": [
    "## <center style=\"color: #66d\">Démarrage du projet</center>"
   ]
  },
  {
   "cell_type": "markdown",
   "metadata": {},
   "source": [
    "### 1. Préambule\n",
    "\n",
    "Cette section récapitule le travail censé avoir été effectué lors des séances de TD. Si certaines étapes n'ont pas été faites, il est vital de les compléter maintenant ou très rapidement au début des séances d'autonomie."
   ]
  },
  {
   "cell_type": "markdown",
   "metadata": {},
   "source": [
    "Avant la séance de TD n°1 vous avez constitué votre groupe et choisi votre sujet parmi :\n",
    "<ul>\n",
    "<li>Projet A : Volcans remarquables</li>\n",
    "<li>Projet B : Sites classés de l'Unesco</li>\n",
    "<li>Projet C : Tours les plus hautes</li>\n",
    "<li>Projet D : Ponts autour du monde</li>\n",
    "<li>Projet E : Lieux historiques</li>\n",
    "</ul>"
   ]
  },
  {
   "cell_type": "markdown",
   "metadata": {},
   "source": [
    "Lors de la séance n°1 vous avez créé un dépôt pour votre projet sur le serveur gitlab de l'Ecole, et désigné un chef de projet qui gère ce dépôt. Les rôles de chacun ont été configurés de manière à vous autoriser à pousser vos développements sur le dépôt. Vous avez également donné les droits nécessaires à votre chargé de TD pour qu'il puisse à minima récupérer vos travaux pour les évaluer, voire pour exceptionnellement pousser lui-même du code pour répondre à une demande d'aide que vous lui auriez transmise (correction de bug par exemple)."
   ]
  },
  {
   "cell_type": "markdown",
   "metadata": {},
   "source": [
    "Lors de cette même séance vous avez récupéré une version de base des données pour votre projet, ainsi que le notebook ayant permis de les obtenir."
   ]
  },
  {
   "cell_type": "markdown",
   "metadata": {},
   "source": [
    "Lors de la séance n°2 vous avez développé un serveur, complété en début de séance 3, capable de répondre à deux types de requêtes, pour obtenir d'une part la liste des points d'intérêts, et d'autre part les données relatives à l'un des points. Ce serveur délivre les informations au format json."
   ]
  },
  {
   "cell_type": "markdown",
   "metadata": {},
   "source": [
    "La séance n°3 vous a amené à développer une interface munie d'une carte glissante affichant les points d'intérêt de votre projet. Un clic sur l'un des points d'intérêt permet d'afficher les données correspondantes."
   ]
  },
  {
   "cell_type": "markdown",
   "metadata": {},
   "source": [
    "### 2. Procédure"
   ]
  },
  {
   "cell_type": "markdown",
   "metadata": {},
   "source": [
    "#### 2.1 - Calendrier\n",
    "\n",
    "A l'issue de ce TD vous aurez 10h (5 séances de 2h) d'autonomie planifiée pour réaliser votre projet. Une dernière séance de 2h vous permettra ensuite d’effectuer la recette d’un autre groupe (Cf. ci-dessous) et de peaufiner votre présentation juste avant la séance de restitution de 2h."
   ]
  },
  {
   "cell_type": "markdown",
   "metadata": {},
   "source": [
    "#### 2.2 Travail collaboratif avec gitlab\n",
    "\n",
    "La plateforme https://gitlab.ec-lyon.fr/ doit être utilisée tout au long du développement de votre projet, c’est-à-dire dès le TD n°4 jusqu’à la séance de restitution, avec des commits réguliers\n",
    "par <u>chacun des élèves du projet</u>. Un seul commit le jour de la restitution par une seule personne sera évalué (très) défavorablement par votre chargé de TD.\n",
    "\n",
    "Tous les fichiers de votre projet devront être mis sur le dépôt gitlab :\n",
    "\n",
    "<ul>\n",
    "<li>le code complet de votre application (client, serveur et base de données, fichiers HTML, CSS, images),</li>\n",
    "<li>le cahier des charges fonctionnel de votre application,</li>\n",
    "<li>une documentation technique permettant l’installation et le lancement de l’application,</li>\n",
    "<li>le diaporama de présentation (utilisé lors de la restitution orale de la dernière séance),</li>\n",
    "<li>le diaporama de la recette de l’autre application que vous avez effectuée (cf. description infra).</li>\n",
    "</ul>\n",
    "\n",
    "Ces fichiers pourront être récupérés à tout moment par votre chargé de TD dans leur état courant et, après la soutenance, constitueront le rendu final."
   ]
  },
  {
   "cell_type": "markdown",
   "metadata": {},
   "source": [
    "#### 2.3 Rendu du travail\n",
    "\n",
    "Votre travail devra être terminé <u>suffisamment longtemps avant la séance de restitution</u> pour que le groupe de projet qui effectue la recette puisse venir récupérer les fichiers et avoir assez de temps pour effectuer la recette de votre application, et <strong>au plus tard au début de la dernière séance d'autonomie</strong> précédant la séance de recette.\n",
    "\n",
    "Pour cela, Vous devrez donc <u>prévenir par e-mail</u> de la disponibilité de cette version « finale » sur gitlab :\n",
    "<ul>\n",
    "<li>Le groupe de projet qui effectue la recette de votre travail (cf. ci-dessous)</li>\n",
    "<li>l’enseignant chargé de votre groupe de TD.</li>\n",
    "</ul>\n",
    "\n",
    "Pour que votre projet soit accessible aux élèves qui effectuent la recette, vous devrez les ajouter comme membres de votre projet avec le statut « reporter ».\n",
    "\n",
    "Votre projet étant accessible en permanence sur gitlab, il n’y a donc aucun transfert de fichier à faire pour le rendu du travail. Il suffit juste de rappeler l’adresse du dépôt de votre projet dans l’e-mail. Le dépôt devra contenir à ce moment-là au moins le code complet\n",
    "opérationnel, le cahier des charges et la documentation technique (les diaporamas seront déposés le jour de la restitution).\n",
    "Dans l’hypothèse fort probable où votre programme contiendrait des erreurs bloquantes détectées par le groupe qui effectue\n",
    "la recette, vous pouvez faire des corrections mais n’oubliez pas de les commiter, puis de les pousser sur gitlab car seuls les fichiers sur le dépôt gitlab seront évalués par votre chargé de TD !"
   ]
  },
  {
   "cell_type": "markdown",
   "metadata": {},
   "source": [
    "#### 2.4 Recette\n",
    "\n",
    "Chaque groupe doit effectuer la recette d’un autre groupe selon la permutation suivante :\n",
    "\n",
    "<table>\n",
    "<tr><th>Sujet</th><th>Recette effectuée par</th></tr>\n",
    "<tr><td>A - Volcans remarquables</td><td>B - Sites classés de l'Unesco</td></tr>\n",
    "<tr><td>B - Sites classés de l'Unesco</td><td>C - Tours les plus hautes</td></tr>\n",
    "<tr><td>C - Tours les plus hautes</td><td>D - Ponts autour du monde</td></tr>\n",
    "<tr><td>D - Ponts autour du monde</td><td>E - Lieux historiques</td></tr>\n",
    "<tr><td>E - Lieux historiques</td><td>A - Volcans remarquables</td></tr>\n",
    "</table>\n",
    "\n",
    "Pour effectuer la recette:\n",
    "<ul>\n",
    "<li>Installer l'application fournie par l’autre groupe en suivant la documentation technique fournie.</li>\n",
    "<li>Evaluer ses fonctionnalités (tester de manière exhaustive boutons, menus...) et les comparer aux\n",
    "fonctionnalités annoncées dans le cahier des charges fonctionnel.</li>\n",
    "<li>Evaluer sa robustesse (essayer de rentrer des informations qui ne correspondent pas à ce qui est attendu...) et noter les éventuels comportements inattendus.</li>\n",
    "<li>Evaluer l'ergonomie et la qualité graphique.</li>\n",
    "</ul>\n",
    "\n",
    "<strong>Critères d’évaluation</strong> (critères et barème indicatifs) :\n",
    "<ul>\n",
    "<li>Critères administratifs\n",
    "  <ul>\n",
    "    <li>Présence de tous les fichiers nécessaires (html, css, py, sqlite), CdCF, documentation technique – 1pt</li>\n",
    "    <li>Respect de la date de remise – 1pt</li>\n",
    "  </ul>\n",
    "</li>\n",
    "<li>Critères techniques\n",
    "  <ul>\n",
    "    <li>Facilité d’installation et de mise en service (guide d'installation, …) – 1pt</li>\n",
    "    <li>Robustesse (résistance à des entrées inattendues, à la suppression d'un fichier image, ...) - 1pt</li>\n",
    "    <li>Maintenabilité (code source commenté, pertinence des noms de variables, …) – 1pt</li>\n",
    "  </ul>\n",
    "</li>\n",
    "<li>Critères fonctionnels\n",
    "  <ul>\n",
    "    <li>Respect du cahier des charges, présence des fonctionnalités obligatoires – 2 pts</li>\n",
    "    <li>Présence de fonctionnalités supplémentaires – 1pt</li>\n",
    "    <li>Ergonomie (facilité de navigation, pas de lien, de bouton, ou de menu inactifs, …) – 1 pt</li>\n",
    "    <li>Qualité graphique (couleurs, polices de caractères, icônes…) – 1 pt</li>\n",
    "  </ul>\n",
    "</li>\n",
    "</ul>\n",
    "\n",
    "Le bilan de cette recette doit être rédigé sous forme d’un diaporama de présentation dans lequel vous pourrez mettre des\n",
    "copies d’écran de l’application pour montrer à titre d’exemple certains des problèmes ou dysfonctionnements détectés ."
   ]
  },
  {
   "cell_type": "markdown",
   "metadata": {},
   "source": [
    "#### 2.5 Restitution\n",
    "\n",
    "La séance de restitution donne l'occasion à chaque groupe de présenter devant ses pairs et l’enseignant de TD l’application <b>qui devra être fonctionnelle</b>. Il vous est donc demandé de prévoir <u>un diaporama de présentation</u> de votre projet sous\n",
    "forme de quelques diapositives (slides) présentant le cahier des charges de votre projet puis\n",
    "<u>une démonstration de votre application</u>.\n",
    "\n",
    "N’oubliez pas de vous munir des adaptateurs nécessaires pour connecter vos ordinateurs aux vidéoprojecteurs,\n",
    "soit en HDMI, soit en VGA.\n",
    "\n",
    "A la suite de votre présentation, le groupe qui a effectué la recette de votre application fera\n",
    "<u>la présentation de cette recette</u>, juste avant d’enchainer par sa propre présentation de projet."
   ]
  },
  {
   "cell_type": "markdown",
   "metadata": {},
   "source": [
    "#### 2.6 Evaluation du travail effectué\n",
    "\n",
    "L’évaluation du projet tiendra compte des éléments suivants :\n",
    "<ol>\n",
    "<li>Évaluation des livrables par l’enseignant de TD</li>\n",
    "<li>Bonne utilisation individuelle et collective du serveur gitlab</li>\n",
    "<li>Recette effectuée par un autre groupe</li>\n",
    "<li>Note individuelle au sein du groupe</li>\n",
    "</ol>\n",
    "\n",
    "Un calcul indicatif de la note est le suivant :\n",
    "<pre>\n",
    "Note Projet / 20 = Note_livrables / 10\n",
    "+ Note gitlab / 3\n",
    "+ Note_Recette / 5\n",
    "+/- Note_Individuelle / 2\n",
    "</pre>\n",
    "\n",
    "<b>N.B.</b> La note individuelle est délivrée par l’enseignant (qui est seul juge de sa décision), après prise en compte de l’autoévaluation du groupe (répartition bonus/malus). Il pourra entre autres s’appuyer sur <b>la contribution individuelle sur gitlab</b>, la participation lors de la soutenance, les indications des membres du groupe...\n",
    "\n",
    "Rappel : La note finale de l’AF INF-tc3 s'obtient en faisant la moyenne de la note de test (QCM) et de la note de projet."
   ]
  },
  {
   "cell_type": "markdown",
   "metadata": {},
   "source": [
    "### 3. Travail à effectuer pour compléter l'application"
   ]
  },
  {
   "cell_type": "markdown",
   "metadata": {},
   "source": [
    "#### a) Opération préalable - mise en place des bases du travail en groupe\n",
    "\n",
    "Si ce n'est déjà fait :\n",
    "\n",
    "<div style=\"background-color:#eef;padding:10px;border-radius:3px; margin-top:1.33em\">\n",
    "<b>3.1 -</b> <b>Mettre à jour le projet sur le serveur gitlab</b> avec la base de données, le serveur, l'interface utilisateur (fichiers html, css, js et images dans le répertoire client) y compris les fichiers nécessaires à leaflet. Il ne serait pas inadéquat d'effectuer un commit pour le TD1 (base de donnée), le TD2 (serveur), le TD3 (interface). A ce point, la version disponible sur gitlab devrait être opérationnelle et correspondre à la fin du TD3.\n",
    "</div>\n",
    "\n",
    "Suggestions :\n",
    "<ul>\n",
    "<li>Ne perdez pas trop de temps lors de cette étape à peaufiner la présentation, ce qui peut être très chronophage...</li>\n",
    "<li><b>Abandonnez la nomenclature utilisée lors des TDs</b> : le code du serveur pourra être renommé <tt>serveur.py</tt>, le fichier html renommé <tt>index.html</tt>, la feuille de style <tt>style.css</tt>...</li>\n",
    "</ul>\n"
   ]
  },
  {
   "cell_type": "markdown",
   "metadata": {},
   "source": [
    "#### b) Fonctionnalités supplémentaires à développer\n",
    "\n",
    "<u>Cahier des charges fonctionnel</u>\n",
    "\n",
    "Il s'agit de permettre l'ajout de commentaires par des utilisateurs, pour chacun des sites (points d'intérêts). On notera la date de dépôt du commentaire, et la date de visite du site par l'utilisateur. Les commentaires devront pouvoir être modifiés et/ou supprimés par leur auteur.\n",
    "\n",
    "<u>&Eacute;tapes du travail</u>\n",
    "\n",
    "<div style=\"background-color:#eef;padding:10px;border-radius:3px;margin-top: 1.33em\">\n",
    "<b>3.2 -</b> <b>Modification de la base de données.</b> Créez deux tables:\n",
    "<ul>\n",
    "<li>La première servira à gérer la liste d'utilisateurs (pseudo, email, mot de passe). Le pseudo servira d'identifiant unique de l'utilsateur.</li>\n",
    "<li style=\"margin-top:0.5em\">La seconde permettra de conserver les commentaires (identifiant unique du commentaire, pseudo de l'utilisateur, nom du site, date du commentaire, message du commentaire, date de la visite du site par l'utilisateur).\n",
    "<div style=\"margin-top:0.5em\">\n",
    "<b>N.B.</b> Il sera utile pour la suite que ces champs soient respectivement nommés : <tt>id,  pseudo, site, timestamp, message,</tt> et <tt>date</tt>.\n",
    "</div>\n",
    "</ul>\n",
    "<p>Créez au moins un utilisateur.</p>\n",
    "<div>Committez et poussez sur le serveur.</div>\n",
    "</div>"
   ]
  },
  {
   "cell_type": "markdown",
   "metadata": {},
   "source": [
    "<div style=\"background-color:#eef;padding:10px;border-radius:3px\">\n",
    "<b>3.3 -</b> <b>Fonctionnalité serveur : création d'un commentaire.</b>\n",
    "\n",
    "<p>Sur réception d'une requête <tt>POST /commentaire</tt> le serveur devra :\n",
    "<ul>\n",
    "<li>récupérer les informations du corps de la requête. On s'attend à y trouver le pseudo de l'utilisateur, son mot de passe, le texte du commentaire, le nom du point d'intérêt, le message du commentaire et une indication de la date de visite de l'utilisateur, <u>exactement sous la forme</u> :\n",
    "<pre>{\n",
    "  \"pseudo\":   \"rdeubaze\",\n",
    "  \"password\": \"raymond\",\n",
    "  \"site\":     \"Château de Lichtenberg\",\n",
    "  \"message\":  \"Endroit intéressant avec avec une belle vue sur les Vosges du Nord\",\n",
    "  \"date\":     \"Durant l'été 2019\"\n",
    "}</pre>\n",
    "</li>\n",
    "<li>vérifier si l'utilisateur existe dans la base et que le mot de passe est correct, et renvoyer un message d'erreur avec le statut 401 sinon,</li>\n",
    "<li>vérifier s'il manque des informations, et renvoyer un message d'erreur avec le statut 422 si c'est le cas,</li>\n",
    "<li>créer le commentaire si les informations nécessaires sont présentes, l'utilisateur connu, et le mot de passe correct.</li> \n",
    "</ul>\n",
    "</div>\n",
    "<p>Le bon fonctionnement de cette méthode pourra être testé grâce au <a href=\"http://localhost:8080/service_tester.html\">testeur de service</a>.</p>\n",
    "<div>Effectuez ces modifications, vérifiez leur bon fonctionnement, committez, et poussez sur le serveur.</div>"
   ]
  },
  {
   "cell_type": "markdown",
   "metadata": {},
   "source": [
    "<div style=\"background-color:#eef;padding:10px;border-radius:3px\">\n",
    "<b>3.4 -</b> <b>Fonctionnalité serveur : récupération de la liste des commentaires sur un site.</b>\n",
    "\n",
    "<p>Le serveur devra délivrer la liste des commentaires associés à un point d'intérêt, suite à une requête <tt>GET /commentaires/&lt;nom-du-site&gt;</tt>. La réponse se fera sous la forme d'une liste de dictionnaires au format json, qui devra comporter <u>exactement les éléments suivants</u> (dont la valeur dépend évidemment du point d'intérêt et du commentaire) :\n",
    "<pre>\n",
    "[\n",
    "  {\n",
    "      \"id\":        1,\n",
    "      \"pseudo\":    \"rdeubaze\",\n",
    "      \"site\":      \"Château de Lichtenberg\",\n",
    "      \"message\":   \"Endroit intéressant avec une belle vue sur les Vosges du Nord\",\n",
    "      \"date\":      \"Durant l'été 2019\",\n",
    "      \"timestamp\":  1637344813\n",
    "  },\n",
    "  ...\n",
    "]\n",
    "</pre>\n",
    "</div>\n",
    "<p>\n",
    "Le timestamp sera calculé par le serveur, et correspond à l'instant de dépôt du commentaire. Les unités choisies pourront traditionnellement correspondre au nombre de secondes écoulées depuis le 1er janvier 1970 à 00:00 - (cf. méthode timestamp d'une date du module datetime).\n",
    "</p>\n",
    "<p>\n",
    "Pensez encore une fois à requérir au <a href=\"http://localhost:8080/service_tester.html\">testeur de service</a> pour vérifier le fonctionnement d'une telle  requête, puis commitez et poussez sur le serveur.</p>"
   ]
  },
  {
   "cell_type": "markdown",
   "metadata": {},
   "source": [
    "<div style=\"background-color:#eef;padding:10px;border-radius:3px\">\n",
    "<b>3.5 -</b> <b>Fonctionnalité serveur : suppression d'un commentaire.</b>\n",
    "\n",
    "<p>Une requête <tt>DELETE /commentaire/&lt;id-du-commentaire&gt;</tt> assortie comme ci-dessous d'un corps au format json avec le pseudo et le mot de passe d'un utilisateur existant provoquera, si l'utilisateur correspond à l'auteur du message et que le mot de passe est correct, la suppression du commentaire. La réponse comportera un statut 204 (No Content).\n",
    "<pre>{\n",
    "  \"pseudo\":   \"rdeubaze\",\n",
    "  \"password\": \"raymond\"\n",
    "}</pre>\n",
    "</div>\n",
    "<p>Rappelez-vous : le <a href=\"http://localhost:8080/service_tester.html\">testeur de service</a> est votre ami.\n",
    "<div>Une fois cette fonctionnalité opérationnelle, committez et poussez sur le serveur.</div>"
   ]
  },
  {
   "cell_type": "markdown",
   "metadata": {},
   "source": [
    "<div style=\"background-color:#eef;padding:10px;border-radius:3px\">\n",
    "<b>3.6 -</b> <b>Affichage des messages dans l'interface.</b>\n",
    "<ul>\n",
    "<li>Inclure depuis votre page html le fichier javascript <tt>apputils.js</tt> joint à ce TD. Ce fichier contient quelques fonctions qui seront utiles pour la suite, dont notamment une fonction <tt>ajax_request</tt> permettant de simplifier les appels AJAX sous la forme&nbsp;:&nbsp;\n",
    "<tt>ajax_request(method,url,body,headers,callback)</tt>.\n",
    "<li  style=\"margin-top:0.5em\">Inclure de la même façon le fichier <tt>comments.js</tt> qui contient les fonctions nécessaires à l'affichage et au traitement des commentaires.</li>\n",
    "<li style=\"margin-top:0.5em\">Ajouter également une référence à la feuille de style <tt>comments.css</tt> jointe à ce sujet.</li>\n",
    "<li style=\"margin-top:0.5em\">Dans le code javascript, vérifier que dans la fonction <tt>OnMarkerClick</tt>, l'identifiant du point d'intérêt (nom du site) est bien copié dans la variable globale <tt>site_name</tt>.</li>\n",
    "<li style=\"margin-top:0.5em\">Ajouter à votre interface un bouton avec un attribut <tt>id=\"show_comments\"</tt> qui permettra d'afficher les commentaires associés à un point d'intérêt.</li>\n",
    "<li style=\"margin-top:0.5em\">Ajouter également un <tt>&lt;div&gt;</tt> avec un attribut <tt>id=\"messages\"</tt>.</li>\n",
    "</ul>\n",
    "\n",
    "<p>Une fois ces opérations effectuées, et dans la mesure où votre serveur répond exactement comme prévu aux requêtes (cf. question 3.4), il vous suffira de déclarer de la manière suivante le gestionnaire d'événements pour un clic de l'utilisateur sur le bouton <tt>show_comments</tt>&nbsp;:\n",
    "<pre>show_comments.addEventListener('click', display_messages);</pre>\n",
    "<div><b>N.B.</b> La fonction <tt>display_messages</tt> se trouve dans le fichier <tt>comments.js</tt>.\n",
    "</div>\n",
    "\n",
    "Créez un message dans la base via <em>DB Browser for SQLite</em> ou le <a href=\"http://localhost:8080/service_tester.html\">testeur de service</a> (cf. question 3.3), sélectionnez le point d'intérêt correspondant sur la carte, puis actionnez le bouton <tt>show_comments</tt>.\n",
    "</div>"
   ]
  },
  {
   "cell_type": "markdown",
   "metadata": {},
   "source": [
    "Si tout se passe bien, vous devriez voir le commentaire apparaître sur votre interface. Si ce n'est pas le cas, vérifiez avec les <em>outils du développeur</em> de votre navigateur ce qui se passe (faute de frappe, erreur sur l'échange avec le serveur... ) et corrigez le problème.\n",
    "\n",
    "Le cas échéant, commitez et poussez sur le serveur.\n",
    "\n",
    "<div style=\"background-color:#eef;padding:10px;border-radius:3px; margin-top:0.5em\">Utilisez ces mêmes <em>outils du développeur</em> pour noter les caractéristiques du code html dynamiquement créé pour l'affichage des commentaires (balises <tt>article</tt> et leur contenu) et développer quelques règles CSS pour améliorer leur présentation.\n",
    "</div>\n",
    "\n",
    "<img src=\"comments.png\" style=\"border-radius: 7px; border: 1px solid black;box-shadow: 5px 5px 5px black\" width=\"450\">\n",
    "<div style=\"text-align:center; font-size:80%; margin-top:0.5em\">Exemple de présentation des commentaires</div>\n",
    "\n",
    "<p>Une fois le résultat satisfaisant, (devinez quoi ?) commitez et poussez sur le serveur !</p>"
   ]
  },
  {
   "cell_type": "markdown",
   "metadata": {},
   "source": [
    "<div style=\"background-color:#eef;padding:10px;border-radius:3px\">\n",
    "<b>3.7 -</b> <b>Suppression d'un message via l'interface.</b>\n",
    "\n",
    "<p>Pour supprimer un message il va falloir que l'utilisateur donne le mot de passe correspondant au pseudo associé au message dans la base de données. Il faut pour cela ajouter à votre interface <tt>index.html</tt> le code suivant permettant de saisir le pseudo&nbsp;:\n",
    "<pre>\n",
    "&lt;div id=\"pwd_request\" class=\"popup\">\n",
    "  &lt;header id=\"pwd_request_header\" class=\"handle\">Entrer le mot de passe&lt;/header>\n",
    "  &lt;label>&lt;span>password : &lt;/span>&lt;input id=\"enter_pwd\" type=\"password\">&lt;/label>\n",
    "  &lt;footer>&lt;button id=\"confirm_pwd\">Ok&lt;/button>&lt;/footer>\n",
    "&lt;/div>\n",
    "</pre>\n",
    "</div>\n"
   ]
  },
  {
   "cell_type": "markdown",
   "metadata": {},
   "source": [
    "Si vous saississez <u>exactement ce code html</u>, que vous avez inclus la feuille de style <tt>comments.css</tt> et les fichiers javascript <tt>apputils.js</tt> et <tt>comments.js</tt>, et que votre serveur répond bien à la requête <tt>DELETE</tt> comme demandé plus haut, la magie devrait s'opérer en cliquant sur le bouton de suppression d'un commentaire...\n",
    "\n",
    "<p>Pensez à committer et à mettre à jour votre projet sur le serveur gitlab.</p>"
   ]
  },
  {
   "cell_type": "markdown",
   "metadata": {},
   "source": [
    "<div style=\"background-color:#eef;padding:10px;border-radius:3px\">\n",
    "<b>3.8 -</b> <b>Création d'un message via l'interface.</b>\n",
    "\n",
    "<p>Afin de pouvoir créer un message associé à un point d'intéret, il faudra&nbsp;:\n",
    "<ul>\n",
    "<li>Ajouter un bouton qui permettra de créer un message :\n",
    "<pre>&lt;button id=\"add_comment\" class=\"show_popup\" data-popup=\"message_editor\">\n",
    "  Laisser un message\n",
    "&lt;/button></pre></li>\n",
    "<li>Ajouter le code HTML suivant pour permettre la saisie des messages :\n",
    "<pre>\n",
    "&lt;div id=\"message_editor\" class=\"resizable popup\">\n",
    "  &lt;header id=\"message_editor_header\" class=\"handle\">&Eacute;dition d'un message&lt;/header>\n",
    "  &lt;label>&lt;span>pseudo : &lt;/span>&lt;input id=\"input_pseudo\">&lt;/label>\n",
    "  &lt;label>&lt;span>password : &lt;/span>&lt;input id=\"input_password\" type=\"password\">&lt;/label>\n",
    "  &lt;label>&lt;span>date de visite : &lt;/span>&lt;input id=\"input_date\">&lt;/label>\n",
    "  &lt;label>&lt;span>message : &lt;/span>&lt;textarea id=\"input_message\">&lt;/textarea>&lt;/label>\n",
    "  &lt;footer>\n",
    "    &lt;button id=\"create_message\">Envoyer&lt;/button>\n",
    "    &lt;button id=\"hide_editor\" class=\"hide_popup\">Abandonner&lt;/button>\n",
    "  &lt;/footer>\n",
    "&lt;/div>\n",
    "</pre>\n",
    "</li>\n",
    "<li>Et déclarer le gestionnaire d'événement associé au bouton de création  d'un message :\n",
    "<pre>\n",
    "create_message.addEventListener('click', post_message);\n",
    "</pre>\n",
    "</li>\n",
    "</ul>\n",
    "</div>\n"
   ]
  },
  {
   "cell_type": "markdown",
   "metadata": {},
   "source": [
    "Si votre serveur répond correctement à la requête <tt>POST /commentaire</tt>, là encore la magie devrait opérer, et votre application devrait maintenant être opérationnelle.\n",
    "\n",
    "Commitez et poussez sur le serveur."
   ]
  },
  {
   "cell_type": "markdown",
   "metadata": {},
   "source": [
    "#### c) Fonctionnalités optionnelles\n",
    "\n",
    "Pour poursuivre le développement de votre application vous pouvez également, en fonction de vos préférences :\n",
    "<ul>\n",
    "<li>Peaufiner la présentation, notamment en adaptant le style des popups (couleurs, polices...) à votre application.\n",
    "<li>Compléter les données (cf. notebook avec la requête SPARQL et code python pour le nettoyage des données).\n",
    "<li>Permettre la gestion des utilisateurs (création, suppression) via l'interface, moyennant par exemple la saisie du pseudo et du mot de passe d'un \"administrateur\".\n",
    "<li>Renvoyer d'autres informations au client. On peut par exemple penser à indiquer le nombre de commentaires existants pour un point d'intérêt en réponse à une requête <tt>GET /commentaires/&lt;nom-du-site&gt;</tt> (cf. question 3.4), sous la forme d'un champ supplémentaire nommé <tt>num_comments</tt>, et exploiter cette information dans l'interface.\n",
    "</ul>\n",
    "\n",
    "<img src=\"num_comments.png\" style=\"border-radius: 7px; border: 1px solid black;box-shadow: 5px 5px 5px black\" width=\"250\">\n",
    "<div style=\"text-align:center; font-size:80%; margin-top:0.5em\">Exemple de présentation de l'information <tt>num_comments</tt></div>"
   ]
  },
  {
   "cell_type": "code",
   "execution_count": 1,
   "metadata": {
    "collapsed": true
   },
   "outputs": [],
   "source": []
  }
 ],
 "metadata": {
  "kernelspec": {
   "display_name": "Python 3",
   "language": "python",
   "name": "python3"
  },
  "language_info": {
   "codemirror_mode": {
    "name": "ipython",
    "version": 3
   },
   "file_extension": ".py",
   "mimetype": "text/x-python",
   "name": "python",
   "nbconvert_exporter": "python",
   "pygments_lexer": "ipython3",
   "version": "3.8.8"
  }
 },
 "nbformat": 4,
 "nbformat_minor": 2
}
