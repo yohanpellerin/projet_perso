{
 "cells": [
  {
   "cell_type": "markdown",
   "metadata": {},
   "source": [
    "#    <center>Informatique tc3 (Projet Web) - TD2</center>"
   ]
  },
  {
   "cell_type": "markdown",
   "metadata": {},
   "source": [
    "## <center style=\"color: #66d\">Mise en place d'un serveur Web en Python</center>"
   ]
  },
  {
   "cell_type": "markdown",
   "metadata": {},
   "source": [
    "### 1. Préambule"
   ]
  },
  {
   "cell_type": "markdown",
   "metadata": {},
   "source": [
    "#### a) Modalités pratiques"
   ]
  },
  {
   "cell_type": "markdown",
   "metadata": {},
   "source": [
    "Un serveur est un processus qui tourne indéfiniment en l'attente de requêtes HTTP auxquelles répondre. Pour cette raison, il n'est pas pratique de développer des programmes serveurs dans une cellule de notebook.\n",
    "En effet, les cellules sont exécutées une à une par un même processus <i>(le kernel IPython)</i>. Si donc on démarre dans une cellule un serveur qui boucle indéfiniment, les cellules suivantes ne seront jamais exécutées...\n",
    "<p style=\"color:#C00\">\n",
    "Pour cette raison, les développements à mener pour ce TD feront l'objet de fichiers individuels, nommés TD2-sXX.py et démarrés manuellement via Spyder, IDLE, la ligne de commande ou votre IDE préféré.\n",
    "\n",
    "Dans Spyder, nous vous conseillons d'exécuter vos programmes dans une <b>console dédiée</b> ce qui permet de facilement tuer le processus en cas de problème et de ne pas bloquer la console de base. Pour cela il suffit d'aller dans le menu \"Exécution&nbsp;|&nbsp;Configurer...\" et de choisir l'option \"Exécuter dans une nouvelle console Python dédiée\" (Nota bene: Ce paramétrage est à faire pour chaque fichier `.py`)."
   ]
  },
  {
   "cell_type": "markdown",
   "metadata": {},
   "source": [
    "#### b) Travail à réaliser"
   ]
  },
  {
   "cell_type": "markdown",
   "metadata": {},
   "source": [
    "Il est important que vous terminiez le travail proposé ci-dessous, même si vous n'êtes pas arrivé à finir pendant les deux heures imparties. En effet, le code produit en fin de TD, servira pour les TDs suivants et constituera la base de votre serveur de projet."
   ]
  },
  {
   "cell_type": "markdown",
   "metadata": {},
   "source": [
    "### 2. Mise en place d'un serveur Web de pages statiques (30mn)"
   ]
  },
  {
   "cell_type": "markdown",
   "metadata": {},
   "source": [
    "<div style=\"background-color:#fee;padding:10px;border-radius:3px\">\n",
    "<b>N.B.</b> Dans toute la suite il sera supposé que les serveurs que vous développerez utilisent le port <tt>8080</tt>.\n",
    "Le texte des questions et l'ensemble des liens de ce document permettant de tester vos serveurs font donc systématiquement appel à ce numéro de port. Si pour une raison ou pour une autre le port <tt>8080</tt> ne convient pas sur votre machine, il sera pertinent de corriger le texte et les liens du présent document au fur et à mesure de l'avancement de ce TD."
   ]
  },
  {
   "cell_type": "markdown",
   "metadata": {},
   "source": [
    "<div style=\"background-color:#eef;padding:10px;border-radius:3px\">\n",
    "<b>2.1 -</b>\n",
    "En vous référant au cours, ou à la <a href=\"https://docs.python.org/3/library/http.server.html#http.server.SimpleHTTPRequestHandler.do_GET\">doc python</a>, développez un premier serveur très simple nommé <tt>TD2-s1.py</tt>, qui attend des requêtes GET sur le port 8080 et permet de délivrer les documents du répertoire courant."
   ]
  },
  {
   "cell_type": "code",
   "execution_count": 1,
   "metadata": {
    "collapsed": true
   },
   "outputs": [],
   "source": [
    "# L'exécution de cette cellule permet de visualiser le contenu du fichier TD2-s1.py\n",
    "# qui n'existera que quand vous l'aurez développé...\n",
    "#\n",
    "# N.B. D'autres cellules de ce type seront utilisées dans la suite de ce notebook\n",
    "#\n",
    "%pycat TD2-s1.py"
   ]
  },
  {
   "cell_type": "markdown",
   "metadata": {},
   "source": [
    "<div style=\"background-color:#eef;padding:10px;border-radius:3px\">\n",
    "<b>2.2 -</b>\n",
    "Une fois écrit le code de votre serveur, démarrez-le via Spyder, votre outil favori, ou la ligne de commande, puis testez-le en exécutant la prochaine cellule. Vous devez obtenir le résultat suivant :\n",
    "<br>\n",
    "<img src=\"TD2-welcome1.png\">"
   ]
  },
  {
   "cell_type": "code",
   "execution_count": 2,
   "metadata": {},
   "outputs": [
    {
     "data": {
      "text/html": [
       "\n",
       "        <iframe\n",
       "            width=\"1080\"\n",
       "            height=\"120\"\n",
       "            src=\"http://localhost:8080/welcome.html\"\n",
       "            frameborder=\"0\"\n",
       "            allowfullscreen\n",
       "        ></iframe>\n",
       "        "
      ],
      "text/plain": [
       "<IPython.lib.display.IFrame at 0x276d9350a90>"
      ]
     },
     "execution_count": 4,
     "metadata": {},
     "output_type": "execute_result"
    }
   ],
   "source": [
    "from IPython.display import IFrame\n",
    "\n",
    "page = 'http://localhost:8080/welcome.html'\n",
    "\n",
    "# crée un iframe qui effectue une requête vers le serveur\n",
    "# que vous êtes censés avoir démarré\n",
    "IFrame(page,1080,120)"
   ]
  },
  {
   "cell_type": "markdown",
   "metadata": {},
   "source": [
    "<div style=\"background-color:#eef;padding:10px;border-radius:3px\">\n",
    "<b>2.3 -</b>\n",
    "Essayez maintenant d'accéder aux adresses ci-dessous, observez les messages de log dans la fenêtre de l'interpréteur python, et commentez les résultats obtenus (page affichée par le navigateur et message de log) :\n",
    "<ul>\n",
    "<li> http://localhost:8080/welcome.html\n",
    "<li> http://localhost:8080/tagada.html\n",
    "<li> http://localhost:8080/\n",
    " </ul>\n",
    " <img src=\"TD2-trace.png\">\n",
    " <div style=\"text-align:center; font-size:80%\">Exemple de message affiché par le serveur lors du traitement d'une requête.<br>On y voit l'adresse IP du serveur, la date et l'heure, l'URL de la requête, et le statut HTTP de la réponse.</div>"
   ]
  },
  {
   "cell_type": "markdown",
   "metadata": {},
   "source": [
    "### 3. Personnalisation du serveur de base (20mn)"
   ]
  },
  {
   "cell_type": "markdown",
   "metadata": {},
   "source": [
    "#### a) Modification du répertoire racine (10mn)"
   ]
  },
  {
   "cell_type": "markdown",
   "metadata": {},
   "source": [
    "Le serveur précédent n'est absolument pas sécurisé : une fois démarré sur votre poste il donne accès au contenu du répertoire courant (qui contient notamment les codes source) à n'importe qui connaissant son existence et son numéro de port.\n",
    "On désire donc développer un serveur qui au moins ne délivre plus que les documents d'un sous-répertoire nommé <tt>client</tt> par exemple. \n",
    "<p>\n",
    "Pour traiter les requêtes entrantes, votre serveur instancie des objets de la classe <tt>http.server.SimpleHTTPRequestHandler</tt>. C'est cette classe qui procure le traitement observé, qui consiste à envoyer au client le fichier correspondant à une requête de type GET, un \"listing\" avec des liens lorsqu'il s'agit d'un répertoire, ou un message d'erreur lorsque le fichier n'existe pas.\n",
    "<p>\n",
    "Pour obtenir un comportement plus fin, il est nécessaire de créer une sous-classe de <tt>http.server.SimpleHTTPRequestHandler</tt> qui introduit le comportement souhaité.\n"
   ]
  },
  {
   "cell_type": "markdown",
   "metadata": {},
   "source": [
    "<div style=\"background-color:#eef;padding:10px;border-radius:3px\">\n",
    "<b>3.1 -</b>\n",
    "Développez une sous-classe de <tt>http.server.SimpleHTTPRequestHandler</tt> qui délivre uniquement les documents d'un sous-répertoire nommé <tt>client</tt>. Une requête vers l'adresse <tt><span>http:</span>//<span>localhost:</span>8080/welcome.html</tt> devra renvoyer le document <tt>client/welcome.html</tt>.\n",
    "<p><b>N.B.</b>\n",
    "Les plus curieux d'entre vous consulteront la\n",
    "<a href=\"https://docs.python.org/3/library/http.server.html\">doc python</a> pour une description exhaustive des\n",
    "variables de classe et d'instance et des méthodes héritées par une telle sous-classe, les autres\n",
    "se contenteront du code source fourni en cours, d'un serveur qui implémente précisément la fonctionnalité demandée.\n",
    "<p>\n",
    "Ecrivez et testez un serveur nommé <tt>TD2-s2.py</tt> qui utilise cette sous-classe et exhibe le comportement attendu :\n",
    "<br>\n",
    "<img src=\"TD2-welcome2.png\">"
   ]
  },
  {
   "cell_type": "code",
   "execution_count": 3,
   "metadata": {
    "collapsed": true
   },
   "outputs": [],
   "source": [
    "# Exécuter cette cellule pour afficher le contenu de TD2-s2.py\n",
    "%pycat TD2-s2.py"
   ]
  },
  {
   "cell_type": "code",
   "execution_count": 4,
   "metadata": {},
   "outputs": [
    {
     "data": {
      "text/html": [
       "\n",
       "        <iframe\n",
       "            width=\"1080\"\n",
       "            height=\"120\"\n",
       "            src=\"http://localhost:8080/welcome.html?x\"\n",
       "            frameborder=\"0\"\n",
       "            allowfullscreen\n",
       "        ></iframe>\n",
       "        "
      ],
      "text/plain": [
       "<IPython.lib.display.IFrame at 0x276d9350f98>"
      ]
     },
     "execution_count": 5,
     "metadata": {},
     "output_type": "execute_result"
    }
   ],
   "source": [
    "# Pour tester le fonctionnement du serveur TD2-s2.py\n",
    "# on peut également entrer directement l'URL mentionnée ci-dessous\n",
    "# dans la barre d'adresse du navigateur...\n",
    "#\n",
    "IFrame('http://localhost:8080/welcome.html?x',1080,120)"
   ]
  },
  {
   "cell_type": "markdown",
   "metadata": {},
   "source": [
    "<div style=\"background-color:#eef;padding:10px;border-radius:3px\">\n",
    "<b>3.2 -</b>\n",
    "Testez les liens ci-dessous et commentez les résultats obtenus :\n",
    " - http://localhost:8080/welcome.html\n",
    " - http://localhost:8080/tagada.html\n",
    " - http://localhost:8080/"
   ]
  },
  {
   "cell_type": "markdown",
   "metadata": {},
   "source": [
    "#### b) Rôle des fichiers index.html (10mn)"
   ]
  },
  {
   "cell_type": "markdown",
   "metadata": {},
   "source": [
    "Le serveur dont vous disposez à présent est capable de délivrer toutes les ressources disponibles dans la sous-arborescence du répertoire <tt>client</tt>. Ces ressources peuvent correspondre à des fichiers texte (<tt>HTML</tt> ou pas), des images (<tt>gif</tt>, <tt>jpg</tt>, <tt>png</tt>), ou posséder d'autres formats reconnus par un navigateur (vidéos, <tt>pdf</tt>, <tt>svg</tt>,&nbsp;...)."
   ]
  },
  {
   "cell_type": "markdown",
   "metadata": {},
   "source": [
    "<div style=\"background-color:#eef;padding:10px;border-radius:3px\">\n",
    "<b>3.3 -</b>\n",
    "Testez ce point pour vous en convaincre, avec les documents existants dans l'arborescence, et en rajoutant un répertoire <tt>client/perso</tt> dans lequel vous pourrez placer divers fichiers. Essayez d'ajouter un fichier nommé <tt>index.html</tt> et commentez l'effet obtenu en accédant à l'adresse http://localhost:8080/perso/"
   ]
  },
  {
   "cell_type": "markdown",
   "metadata": {},
   "source": [
    "### 4. Réponses à contenu dynamique, forgé à la volée (20 mn)"
   ]
  },
  {
   "cell_type": "markdown",
   "metadata": {},
   "source": [
    "#### a) Réponse dynamique"
   ]
  },
  {
   "cell_type": "markdown",
   "metadata": {},
   "source": [
    "Pour envoyer un document généré à la volée, il faut penser à :\n",
    "- envoyer la ligne de statut HTTP,\n",
    "- envoyer les lignes d'entête,\n",
    "- envoyer la chaîne de caractères qui constitue le corps de la réponse, en l'ayant préalablement encodée.\n",
    "\n",
    "<div style=\"background-color:#eef;padding:10px;border-radius:3px\">\n",
    "<b>4.1 -</b>\n",
    "Sur la base du serveur précédent, commencez à développer un serveur nommé TD2-s3.py muni de la méthode suivante, qui implémente les étapes décrites ci-dessus. "
   ]
  },
  {
   "cell_type": "raw",
   "metadata": {},
   "source": [
    "  def send(self,body,headers=[]):\n",
    "\n",
    "    # on encode la chaine de caractères à envoyer\n",
    "    encoded = bytes(body, 'UTF-8')\n",
    "\n",
    "    # on envoie la ligne de statut\n",
    "    self.send_response(200)\n",
    "\n",
    "    # on envoie les lignes d'entête et la ligne vide\n",
    "    [self.send_header(*t) for t in headers]\n",
    "    self.send_header('Content-Length',int(len(encoded)))\n",
    "    self.end_headers()\n",
    "\n",
    "    # on envoie le corps de la réponse\n",
    "    self.wfile.write(encoded)"
   ]
  },
  {
   "cell_type": "markdown",
   "metadata": {},
   "source": [
    "<div style=\"background-color:#eef;padding:10px;border-radius:3px\">\n",
    "<b>4.2 -</b>\n",
    "Complétez maintenant TD2-s3.py pour qu'il renvoie un document avec la date et l'heure de votre machine lorsqu'il reçoit une requête <tt>GET</tt> avec le chemin d'accès <tt>/time</tt>, et testez-le via le <a href=\"http://localhost:8080/service_tester.html\">testeur de service</a> ou directement à l'adresse http://localhost:8080/time.\n",
    "<br>\n",
    "<img src=\"TD2-time.png\" width=\"300\" style=\"border: 1px solid #888;box-shadow:5px 5px 5px #ccc; border-radius:3px\"><div style=\"text-align:center; font-size:80%\">Exemple de réponse de la part du serveur TD2-s3</div>\n",
    "\n",
    "<b>N.B.</b> L'heure du serveur peut être obtenue par un appel à la méthode <tt>self.date_time_string()</tt>.\n",
    "\n",
    "<div style=\"margin-top:0.5em\">Il sera par ailleurs certainement utile de vous référer au cours qui propose le code source d'un serveur qui renvoie un document dynamique.</div>"
   ]
  },
  {
   "cell_type": "code",
   "execution_count": 5,
   "metadata": {
    "collapsed": true
   },
   "outputs": [],
   "source": [
    "%pycat TD2-s3.py"
   ]
  },
  {
   "cell_type": "markdown",
   "metadata": {},
   "source": [
    "#### b) Routage\n",
    "\n",
    "<b>N.B.</b> Le fait de renvoyer une réponse dynamique pour les chemins d'accès qui commencent par <tt>/time</tt> et éventuellement un document statique (s'il existe) dans le cas contraire, impose de tester l'adresse employée par le client, et d'aiguiller le comportement du serveur en fonction de sa forme. On appelle ce processus d'aiguillage <b>le routage</b> (encore très simple dans le cas présent).\n",
    "\n",
    "La partie du code effectuant le routage (i.e. <b>le routeur</b>) s'étoffera au fur et à mesure que l'on rajoutera des fonctonnalités au serveur."
   ]
  },
  {
   "cell_type": "markdown",
   "metadata": {},
   "source": [
    "### 5. Architecture trois tiers : avec base de données (35mn)"
   ]
  },
  {
   "cell_type": "markdown",
   "metadata": {},
   "source": [
    "L'objectif est maintenant de s'appuyer sur le travail précédemment réalisé pour créer une application autour de votre base de données, que vous avez récupérée lors du TD1. Pour cela, récupérez le répertoire propre à votre projet et copiez-le dans le répertoire courant."
   ]
  },
  {
   "cell_type": "markdown",
   "metadata": {},
   "source": [
    "#### a) Liste des points d'intérêts propres à votre projet (15mn)"
   ]
  },
  {
   "cell_type": "markdown",
   "metadata": {},
   "source": [
    "<div style=\"background-color:#eef;padding:10px;border-radius:3px\">\n",
    "<b>5.1 -</b>\n",
    "En vous basant sur les compétences acquises lors du TD n°1 écrivez un serveur <tt>TD2-s4.py</tt> qui, sur réception d'une requête <tt>GET</tt> appropriée en fonction de votre projet :\n",
    "<ul>\n",
    "<li>émette une requête SQL sur la table principale de votre base de données pour obtenir la liste des points d'intérêt\n",
    "<li>et renvoie une page au format <tt>text/plain</tt> contenant cette liste.\n",
    "</ul>\n",
    "<br>\n",
    "Tester votre code en affichant la page obtenue (en fonction de votre projet) :\n",
    "<ul>\n",
    "    <li><tt>GET /volcans</tt>   : http://localhost:8080/volcans</li>\n",
    "    <li><tt>GET /sites&nbsp;&nbsp;</tt>   : http://localhost:8080/sites</li>\n",
    "    <li><tt>GET /tours&nbsp;&nbsp;</tt>   : http://localhost:8080/tours</li>\n",
    "    <li><tt>GET /ponts&nbsp;&nbsp;</tt>   : http://localhost:8080/ponts</li>\n",
    "    <li><tt>GET /lieux&nbsp;&nbsp;</tt>   : http://localhost:8080/lieux</li>\n",
    "\n",
    "</ul>\n",
    "<img src=\"TD2-liste_volcans.png\" width=\"250\" style=\"border: 1px solid #888;box-shadow:5px 5px 5px #ccc; border-radius:3px\">\n",
    "<div style=\"text-align:center; font-size:80%;\">Exemple de résultat espéré pour le serveur TD2-s4</div>"
   ]
  },
  {
   "cell_type": "code",
   "execution_count": 6,
   "metadata": {
    "collapsed": true
   },
   "outputs": [],
   "source": [
    "%pycat TD2-s4.py"
   ]
  },
  {
   "cell_type": "markdown",
   "metadata": {},
   "source": [
    "#### b) Passage de paramètres via le chemin d'accès (15mn)"
   ]
  },
  {
   "cell_type": "markdown",
   "metadata": {},
   "source": [
    "On souhaiterait maintenant récupérer l'ensemble des informations concernant un point d'intérêt donné. Pour cela on peut passer en paramètre de la requête le nom du point d'intérêt en l'ajoutant à la suite de l'URL (au singulier) comme par exemple : \n",
    "- <tt>GET /volcan/Acamarachi</tt>\n",
    "- <tt>GET /site/Abbaye+de+Fontenay</tt>\n",
    "- <tt>GET /tour/Burj+Khalifa</tt>\n",
    "- <tt>GET /pont/Pont+Jacques-Cartier</tt>\n",
    "- <tt>GET /lieu/Château+de+Lichtenberg</tt>"
   ]
  },
  {
   "cell_type": "markdown",
   "metadata": {},
   "source": [
    "<div style=\"background-color:#eef;padding:10px;border-radius:3px\">\n",
    "<b>5.2 -</b>\n",
    "Ecrivez un serveur <tt>TD2-s5.py</tt> qui permette de telles requêtes paramétrées et retourne les informations du point d'intérêt comme précédemment au format texte.\n",
    "\n",
    "Tester votre code en affichant une page propre à votre projet :\n",
    "<ul>\n",
    "<li>http://localhost:8080/volcan/Acamarachi</li>\n",
    "<li>http://localhost:8080/site/Abbaye+de+Fontenay</li>\n",
    "<li>http://localhost:8080/tour/Burj+Khalifa</li>\n",
    "<li>http://localhost:8080/pont/Pont+Jacques-Cartier</li>\n",
    "<li>http://localhost:8080/lieu/Château+de+Lichtenberg</li>\n",
    "</ul>\n",
    "\n",
    "<img src=\"TD2-volcan_Acamarachi_txt.png\" style=\"border: 1px solid #888;max-width:700px;box-shadow:5px 5px 5px #ccc; border-radius:3px\">\n",
    "<div style=\"text-align:center; font-size:80%\">Exemple de résultat attendu pour le serveur TD2-s5</div>"
   ]
  },
  {
   "cell_type": "code",
   "execution_count": 7,
   "metadata": {
    "collapsed": true
   },
   "outputs": [],
   "source": [
    "%pycat TD2-s5.py"
   ]
  },
  {
   "cell_type": "markdown",
   "metadata": {},
   "source": [
    "#### c)  Traitement des erreurs (5mn)\n",
    "\n",
    "Lorsqu'on demande au serveur une ressource qui n'existe pas comme http://localhost:8080/localite/Lyon, cette requête finit par être traitée par la méthode <tt>send_static()</tt> qui renvoie un statut <tt>404</tt>.\n",
    "\n",
    "Pour autant, lorsque le chemin commence par un mot reconnu, mais qu''il y a une erreur dans le nom demandé comme dans: http://localhost:8080/pont/Avignon, la requête SQL vers la base de données renvoie <b>None</b> et le serveur risque fort de rencontrer une exception.\n",
    "\n",
    "Il faut évidemment prévoir ce genre de cas, éviter une erreur d'exécution du code du serveur, et renvoyer une page d'erreur :\n",
    "<br>\n",
    "<img src=\"TD2-volcan_404.png\" width=\"400\" style=\"border:1px solid #888; box-shadow:5px 5px 5px #ccc; border-radius:3px\">\n",
    "<div style=\"text-align:center; font-size:80%\">Exemple d'erreur attendue de la part du serveur TD2-s7</div>"
   ]
  },
  {
   "cell_type": "markdown",
   "metadata": {},
   "source": [
    "<div style=\"background-color:#eef;padding:10px;border-radius:3px\">\n",
    "<b>5.3 -</b> Après avoir consulté la documentation de la méthode <a href=\"https://docs.python.org/3/library/http.server.html#http.server.BaseHTTPRequestHandler.send_error\">send_error()</a>, prévoyez ce genre d'erreur avec un serveur version <code>TD2-s6.py</code> et testez votre code avec l'adresse précédente."
   ]
  },
  {
   "cell_type": "code",
   "execution_count": 8,
   "metadata": {
    "collapsed": true
   },
   "outputs": [],
   "source": [
    "%pycat TD2-s6.py"
   ]
  },
  {
   "cell_type": "markdown",
   "metadata": {},
   "source": [
    "### 6. Mise en forme des réponses du serveur (15mn et plus si affinités)"
   ]
  },
  {
   "cell_type": "markdown",
   "metadata": {},
   "source": [
    "#### a) Réponse au format json (15mn)\n",
    "\n",
    "<div style=\"background-color:#eef;padding:10px;border-radius:3px\">\n",
    "<b>6.1 -</b> Développez maintenant un serveur nommé <code>TD2-s7.py</code> qui renvoie la liste des points d'intérêt avec leur nom, latitude et longitude, au format json au lieu du format texte, lorsqu'il reçoit une requête comme celles traitée en question 5.1 :\n",
    "</div>\n",
    "<ul>\n",
    "    <li>http://localhost:8080/volcans</li>\n",
    "    <li>http://localhost:8080/sites</li>\n",
    "    <li>http://localhost:8080/tours</li>\n",
    "    <li>http://localhost:8080/ponts</li>\n",
    "    <li>http://localhost:8080/lieux</li>\n",
    "</ul>"
   ]
  },
  {
   "cell_type": "code",
   "execution_count": 9,
   "metadata": {
    "collapsed": true
   },
   "outputs": [],
   "source": [
    "%pycat TD2-s7.py"
   ]
  },
  {
   "cell_type": "markdown",
   "metadata": {},
   "source": [
    "<b>N.B.</b> Ce serveur sera réutilisé et développé dans la suite de votre travail pour l'avancement de votre projet. Il permet au client d'obtenir la liste des points d'intérêt via une requête AJAX afin de les placer sur une carte."
   ]
  },
  {
   "cell_type": "markdown",
   "metadata": {},
   "source": [
    "#### b)  Génération de code HTML"
   ]
  },
  {
   "cell_type": "markdown",
   "metadata": {},
   "source": [
    "<div style=\"background-color:#eef;padding:10px;border-radius:3px\">\n",
    "<b>6.1 -</b> Améliorez le code du serveur précédent pour obtenir le serveur <tt>TD2-s8.py</tt> afin qu'il ne retourne plus les caractéristiques d'un site au format texte, mais au format HTML, suite à une requête comme celles de la question 5.2. \n",
    "\n",
    "Tester votre code en affichant une page comme :\n",
    "<ul>\n",
    "<li>http://localhost:8080/volcan/Acamarachi</li>\n",
    "<li>http://localhost:8080/site/Abbaye+de+Fontenay</li>\n",
    "<li>http://localhost:8080/tour/Burj+Khalifa</li>\n",
    "<li>http://localhost:8080/pont/Pont+Jacques-Cartier</li>\n",
    "<li>http://localhost:8080/lieu/Château+de+Lichtenberg</li>\n",
    "</ul>\n",
    "\n",
    "<img src=\"TD2-lieu_Lichtenberg_html.png\" width=\"600\" style=\"border: 1px solid #888; box-shadow:5px 5px 5px #ccc; border-radius:3px\">\n",
    "<div style=\"text-align:center; font-size:80%\">Exemple de résultat délivré par le serveur TD2-s8</div>"
   ]
  },
  {
   "cell_type": "code",
   "execution_count": 10,
   "metadata": {
    "collapsed": true
   },
   "outputs": [],
   "source": [
    "%pycat TD2-s8.py"
   ]
  },
  {
   "cell_type": "markdown",
   "metadata": {},
   "source": [
    "#### b) Mise en forme de la réponse avec CSS - (ad libitum)\n",
    "\n",
    "La réponse peut aisément être mise en forme si le code HTML renvoyé fait référence à une feuille de style externe que l'on peut développer.\n",
    "\n",
    "<div style=\"background-color:#eef;padding:10px;border-radius:3px\">\n",
    "<b>6.2 -</b> Dans quel répertoire doit-on mettre le fichier CSS ?\n",
    "</div>\n",
    "\n",
    "<i>Attention à ne pas perdre trop de temps sur la question suivante, à faire pour la beauté du geste, qui peut donner un résultat satisfaisant, mais être très chronophage...</i>\n",
    "\n",
    "<p style=\"background-color:#eef;padding:10px;border-radius:3px\">\n",
    "<b>6.3 -</b> Développez <code>TD2-s9.py</code> et <code>TD2-s9.css</code> en plaçant ce dernier dans le répertoire adéquat. Peaufinez le code HTML pour obtenir un résultat probant.\n",
    "</p>\n",
    "\n",
    "<img src=\"TD2-pont_css.png\"><div style=\"text-align:center\">Exemple de résultat délivré par le serveur TD2-s9, avec feuille de style</div>"
   ]
  },
  {
   "cell_type": "code",
   "execution_count": 11,
   "metadata": {
    "collapsed": true
   },
   "outputs": [],
   "source": []
  }
 ],
 "metadata": {
  "kernelspec": {
   "display_name": "Python 3",
   "language": "python",
   "name": "python3"
  },
  "language_info": {
   "codemirror_mode": {
    "name": "ipython",
    "version": 3
   },
   "file_extension": ".py",
   "mimetype": "text/x-python",
   "name": "python",
   "nbconvert_exporter": "python",
   "pygments_lexer": "ipython3",
   "version": "3.8.8"
  }
 },
 "nbformat": 4,
 "nbformat_minor": 1
}
