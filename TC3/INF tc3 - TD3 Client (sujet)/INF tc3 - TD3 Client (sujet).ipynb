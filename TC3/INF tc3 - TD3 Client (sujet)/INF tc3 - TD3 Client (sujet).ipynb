{
 "cells": [
  {
   "cell_type": "markdown",
   "metadata": {},
   "source": [
    "#    <center>Informatique tc3 (Projet Web) - TD3</center>"
   ]
  },
  {
   "cell_type": "markdown",
   "metadata": {},
   "source": [
    "## <center style=\"color: #66d\">Développement d'interfaces Web</center>"
   ]
  },
  {
   "cell_type": "markdown",
   "metadata": {},
   "source": [
    "### 1. Préambule"
   ]
  },
  {
   "cell_type": "markdown",
   "metadata": {},
   "source": [
    "#### a) Modalités pratiques"
   ]
  },
  {
   "cell_type": "markdown",
   "metadata": {},
   "source": [
    "Il est possible d'inclure du code HTML dans un notebook ipython. Essayez : c'est simple, il suffit d'écrire des balises dans une zone de texte <i>(Markdown)</i>. Si vous manquez <span style=\"color:red\">d'inspiration</span>, vérifiez simplement comment <em>CE TEXTE</em> a été mis en italiques, ou <strong>CELUI-CI</strong> en gras, en regardant simplement le code source de la cellule."
   ]
  },
  {
   "cell_type": "markdown",
   "metadata": {},
   "source": [
    "Le développement d'interfaces pour une application Web dans un notebook n'est toutefois pas possible car&#160;:\n",
    "- la mise en page du notebook va interférer avec la présentation graphique de votre interface,\n",
    "- l'interactivité de votre interface va interférer avec celle du notebook,\n",
    "- la soumission d'un formulaire va vous faire quitter le notebook,\n",
    "- vous ne pourrez pas facilement exécuter du code javascript dans votre notebook,\n",
    "- il existe des règles de sécurité qui empêchent un navigateur d'émettre des requêtes AJAX vers un serveur <i>(celui que vous aurez développé)</i> autre que celui dont est issu la page qui envoie la requête <em>(le serveur de notebook)."
   ]
  },
  {
   "cell_type": "markdown",
   "metadata": {},
   "source": [
    "Pour toutes ces raisons, il va falloir :\n",
    "\n",
    "1) vous munir de votre éditeur de texte favori <sup>*</sup>,\n",
    "\n",
    "2) créer vos fichiers <tt>.html</tt> et <tt>.css</tt> dans __le répertoire <tt>/client</tt>__ de votre serveur.\n",
    "\n",
    "3) accéder aux fichiers html <b>via votre serveur</b>.<br>\n",
    "AJAX ne fonctionnera pas si vous ouvrez vos pages html en faisant un double-clic sur le fichier <i>(cf. url en file:// dans la barre d'adresse du navigateur)</i>."
   ]
  },
  {
   "cell_type": "markdown",
   "metadata": {},
   "source": [
    "#### b) Choix d'un éditeur de texte"
   ]
  },
  {
   "cell_type": "markdown",
   "metadata": {},
   "source": [
    "N'importe quel éditeur de texte fait l'affaire. Attention, ni Word, ni WordPad ne sont des éditeurs de texte : ce sont des programmes de <em>traitement de texte</em>. Voici quelques suggestions si vous n'avez pas déjà votre favori :"
   ]
  },
  {
   "cell_type": "markdown",
   "metadata": {},
   "source": [
    "<div style=\"display:flex\">\n",
    "<img title=\"Notepad++\" src=\"logo_notepadpp.png\" style=\"display:inline;width:100px;margin-left:50px\">\n",
    "<img title=\"Vim - Vi for Windows\"src=\"logo_vim.svg\" style=\"display:inline;width:100px;margin-left:50px\">\n",
    "<img title=\"Emacs\" src=\"logo_emacs.svg\" style=\"display:inline;width:100px;margin-left:50px\">\n",
    "<img title=\"Sublime Text\" src=\"logo_sublimetext.png\" style=\"display:inline;width:100px;margin-left:50px\">\n",
    "</div>\n",
    "<p><b>N.B.</b> Le bloc notes de Windows est bien un éditeur de texte, mais tellement primitif qu'il est déconseillé de l'utiliser...</p>"
   ]
  },
  {
   "cell_type": "markdown",
   "metadata": {},
   "source": [
    "Si tout cela vous laisse perplexe, téléchargez et installez <a href=\"https://www.sublimetext.com/\">Sublime Text</a>, il convient très bien et il en existe une version pour toutes les platerformes. Cependant si vous êtes sous Windows et préférez les logiciels libres, alors utilisez plutôt <a href=\"https://notepad-plus-plus.org/\"> Notepad++</a>"
   ]
  },
  {
   "cell_type": "markdown",
   "metadata": {},
   "source": [
    "### 2. Développement d'une première interface simple (30mn)"
   ]
  },
  {
   "cell_type": "markdown",
   "metadata": {},
   "source": [
    "<div style=\"background-color:#eef;padding:10px;border-radius:3px\">\n",
    "<b>2.1 -</b>\n",
    "Développez un document HTML appelé <a href=\"http://localhost:8080/TD3-s1.html\"><tt>TD3-s1.html</tt></a> dans le répertoire <tt>client</tt> de ce TD. Cette page comprendra un formulaire qui demande le nom et le prénom de l'utilisateur. Lors de la soumission du formulaire on désire que le navigateur appelle le serveur dont est issu le document avec la méthode <tt>POST</tt>, le chemin d'accès <tt>/toctoc</tt> et les variables <tt>Nom</tt> et <tt>Prenom</tt> dans la chaîne de requête envoyée avec le corps.\n",
    "</div>\n",
    "<img src=\"TD3-s1.png\" style=\"border:1px solid #666; border-radius:5px; box-shadow: 5px 5px 5px #444\">\n",
    "<div style=\"text-align:center; font-size:80%; margin-top:0.5em\">Exemple d'interface pour le premier formulaire</div>"
   ]
  },
  {
   "cell_type": "markdown",
   "metadata": {},
   "source": [
    "<div style=\"background-color:#eef;padding:10px;border-radius:3px\">\n",
    "<b>2.2 -</b>\n",
    "Une fois cette page développée, démarrez le serveur <tt>TD3-serveur1.py</tt> fourni avec ce TD et vérifiez que le serveur vous renvoie bien le résultat attendu en remplissant le formulaire sur : http://localhost:8080/TD3-s1.html\n",
    "\n",
    "<img src=\"TD3-s1-reponse.png\">\n",
    "<div style=\"text-align:center; font-size:80%\">Exemple de réponse attendue</div>"
   ]
  },
  {
   "cell_type": "markdown",
   "metadata": {},
   "source": [
    "<b>Rappels :</b> Comme lors du TD précédent, le serveur `TD3-serveur1.py` doit être démarré manuellement via Spyder et nous vous conseillons de le lancer dans une console dédiée en allant dans le menu \"Exécution&nbsp;|&nbsp;Configurer...\" et en choisissant l'option \"Exécuter dans une nouvelle console Python dédiée\"."
   ]
  },
  {
   "cell_type": "markdown",
   "metadata": {},
   "source": [
    "<div style=\"background-color:#eef;padding:10px;border-radius:3px\">\n",
    "<b>2.3 -</b> Modifier votre document HTML pour obtenir la version <a href=\"http://localhost:8080/TD3-s2.html\"><tt>TD3-s2.html</tt></a> qui réalise la soumission du formulaire avec la méthode <tt>GET</tt> au lieu de <tt>POST</tt>. Quelles sont les différences ?"
   ]
  },
  {
   "cell_type": "markdown",
   "metadata": {},
   "source": [
    "<div style=\"background-color:#eef;padding:10px;border-radius:3px\">\n",
    "<b>2.4 -</b> Une fois votre formulaire fonctionnel, améliorez sa présentation en vous aidant du cours sur CSS.\n",
    "&mdash; Attention toutefois à ne pas perdre de temps à vouloir trop fignoler la présentation. Vous pourrez faire ce travail lors des séances d'autonomie dédiées à votre projet.\n",
    "</div>\n",
    "\n",
    "<img src=\"TD3-s2.png\">\n",
    "<div style=\"text-align:center; font-size:80%\">Exemple de présentation</div>"
   ]
  },
  {
   "cell_type": "markdown",
   "metadata": {},
   "source": [
    "### 3. Améliorations : passage à une requête AJAX (30mn)"
   ]
  },
  {
   "cell_type": "markdown",
   "metadata": {},
   "source": [
    "Lorsque la réponse revient, il est dommage qu'elle soit affichée dans une fenêtre différente, et dans une présentation très différente de celle de la page appelante.\n",
    "\n",
    "Nous allons maintenant modifier le serveur pour qu'il renvoie directement les données _(non formattées en HTML)_ et pour que la page appelante affiche directement le résultat obtenu en envoyant une requête AJAX plutôt qu'en soumettant un formulaire."
   ]
  },
  {
   "cell_type": "markdown",
   "metadata": {},
   "source": [
    "<div style=\"background-color:#eef;padding:10px;border-radius:3px\">\n",
    "<b>3.1 -</b> Modifiez le serveur en le renommant <tt>TD3-s3.py</tt> pour qu'il renvoie de l'information formatée en JSON, plutôt que du texte HTML (pour les méthodes <tt>GET</tt> et <tt>POST</tt>).\n",
    "\n",
    "Pour la requête <a href=\"http://localhost:8080/toctoc?Prenom=Eva&Nom=Drouy\"><tt>http://localhost:8080/toctoc?Prenom=Eva&Nom=Drouy</tt></a> on s'attend par exemple à la réponse :\n",
    "\n",
    "<pre>\n",
    "{\n",
    "  \"given_name\": \"Eva\",\n",
    "  \"family_name\": \"Drouy\"\n",
    "}\n",
    "</pre>"
   ]
  },
  {
   "cell_type": "code",
   "execution_count": 1,
   "metadata": {},
   "outputs": [
    {
     "name": "stdout",
     "output_type": "stream",
     "text": [
      "Error: no such file, variable, URL, history range or macro\n"
     ]
    }
   ],
   "source": [
    "%pycat TD3-s1.py"
   ]
  },
  {
   "cell_type": "markdown",
   "metadata": {},
   "source": [
    "<div style=\"background-color:#eef;padding:10px;border-radius:3px\">\n",
    "    \n",
    "<b>3.2 -</b> Modifiez maintenant votre interface en l'appelant <a href=\"http://localhost:8080/TD3-s4.html\"><tt>TD3-s4.html</tt></a> :\n",
    "- supprimez les balises <tt>form</tt> <i>(ouvrante et fermante)</i>,\n",
    "- ajouter <tt>id=\"prenom\"</tt> et <tt>id=\"nom\"</tt> dans les champs  <tt>&lt;input&gt;</tt> correspondants\n",
    "- ajoutez un paragraphe ou un élément <tt>&lt;div&gt;</tt> avec un attribut <tt>id=\"reponse\"</tt>,\n",
    "- remplacez la balise <tt>&lt;input type=\"submit\"&gt;</tt> par un élément <tt>&lt;button&gt;</tt> avec un attribut <tt>id=\"bouton\"</tt>,\n",
    "- puis déclarez un gestionnaire d'événement pour un clic sur le bouton avec le code Javascript suivant :"
   ]
  },
  {
   "cell_type": "raw",
   "metadata": {},
   "source": [
    "<script>\n",
    "document.getElementById('bouton').addEventListener('click', envoiformulaire);\n",
    " \n",
    "function envoiformulaire(e) {\n",
    "    var xhr = new XMLHttpRequest();\n",
    "\n",
    "    // on récupère le nom et le prénom\n",
    "    var pr = document.getElementById('prenom').value,\n",
    "        no = document.getElementById('nom').value ;\n",
    "\n",
    "    // cette fonction sera appelée lorsque la réponse du serveur sera disponible\n",
    "    xhr.onload = function() {\n",
    "\n",
    "      // récupération de l'information renvoyée par le serveur\n",
    "      var data = JSON.parse(this.responseText);\n",
    "\n",
    "      // affichage dans la zone 'reponse', du prénom et du nom récupéré par l'appel au serveur\n",
    "      document.getElementById('reponse').innerHTML = 'Bonjour ' + data.given_name + ' ' + data.family_name;\n",
    "    };\n",
    "\n",
    "    // détails de la requête envoyée au serveur\n",
    "    xhr.open('GET','/toctoc/'+pr+'/'+no,true);\n",
    "\n",
    "    // envoi de la requête\n",
    "    xhr.send();\n",
    "}\n",
    "</script>"
   ]
  },
  {
   "cell_type": "markdown",
   "metadata": {},
   "source": [
    "<b>N.B.</b> Le code Javascript fourni n'utilise pas la chaîne de requête pour passer les valeurs entrées par l'utilisateur au serveur. Au lieu de cela, il forme requête avec une URL <i>Restful</i> de la forme <tt>/toctoc/&lt;prenom>/&lt;nom></tt>."
   ]
  },
  {
   "cell_type": "markdown",
   "metadata": {},
   "source": [
    "<div style=\"background-color:#eef;padding:10px;border-radius:3px\">\n",
    "<b>3.3 -</b> Modifiez le serveur en le renommant <tt>TD3-s4.py</tt> pour qu'il renvoie l'information en utilisant les paramètres passés dans l'URL sous la forme<br> <tt>/toctoc/&lt;prenom>/&lt;nom></tt> et testez-le avec votre interface.\n",
    "</div>"
   ]
  },
  {
   "cell_type": "markdown",
   "metadata": {},
   "source": [
    "Vous pouvez espérer un résultat de ce type :\n",
    "\n",
    "<img src=\"TD3-s4.png\" >\n",
    "<div style=\"text-align:center; font-size:80%\">Exemple après affichage de la réponse par TD3-s4.html</div>"
   ]
  },
  {
   "cell_type": "code",
   "execution_count": 2,
   "metadata": {
    "collapsed": true
   },
   "outputs": [],
   "source": [
    "%pycat TD3-s4.py"
   ]
  },
  {
   "cell_type": "markdown",
   "metadata": {
    "collapsed": true
   },
   "source": [
    "### 4. Exploitation de la base de données (30mn)"
   ]
  },
  {
   "cell_type": "markdown",
   "metadata": {},
   "source": [
    "Le dernier serveur du TD précédent, nommé TD2-s7.py renvoie la liste des points d'intérêts au format json avec leur nom, latitude et longitude. Il s'agit maintenant d'exploiter ces informations pour créer dynamiquement une interface avec une liste de choix."
   ]
  },
  {
   "cell_type": "markdown",
   "metadata": {},
   "source": [
    "<div style=\"background-color:#eef;padding:10px;border-radius:3px\">\n",
    "<b>4.1 -</b> Récupérez la base de données de votre projet, ainsi que le serveur <tt>TD2-s7.py</tt> qui renvoie la liste des points d'intérêts au format json, en le renommant <tt>TD3-s5.py</tt>.\n",
    "<p>\n",
    "Créez ensuite un document html nommé <a href=\"http://localhost:8080/TD3-s5.html\"><tt>TD3-s5.html</tt></a> qui effectue une requête vers le serveur en utilisant le code javascript ci-dessous.\n",
    "<p>\n",
    "Ce code récupère la liste des points d'intérêt pour les afficher sous la forme d'options dans une liste de choix (balise <tt>select</tt>).\n",
    "</p>\n",
    "</div>"
   ]
  },
  {
   "cell_type": "raw",
   "metadata": {},
   "source": [
    "<select id=\"poi\" name=\"poi\" required>\n",
    " <option value=\"\" selected disabled hidden>Choisir...</option>\n",
    "</select>\n",
    " \n",
    "<script>\n",
    "// Modifier cette ligne en fonction de votre projet\n",
    "var entity_list_name = 'volcans'\n",
    "\n",
    "var xhr = new XMLHttpRequest();\n",
    " \n",
    "// cette fonction sera appelée lorsque la réponse du serveur sera disponible\n",
    "xhr.onload = function() {\n",
    "    \n",
    "  // récupération de l'information renvoyée par le serveur\n",
    "  var data = JSON.parse(this.responseText);\n",
    "      \n",
    "  // création des options de la liste\n",
    "  for ( n=0; n < data.length; n++ ) {\n",
    "    d = data[n];\n",
    "    option = '<option>' + d.name + '</option>\\n';\n",
    "    document.getElementById('poi').innerHTML += option;\n",
    "  }\n",
    "\n",
    "};\n",
    "\n",
    "// détails de la requête envoyée au serveur\n",
    "xhr.open('GET','/' + entity_list_name,true);\n",
    "    \n",
    "// envoi de la requête\n",
    "xhr.send();\n",
    "</script>"
   ]
  },
  {
   "cell_type": "markdown",
   "metadata": {},
   "source": [
    "<div style=\"display:flex\">\n",
    "  <img src=\"TD3-s5.png\">\n",
    "  <img src=\"TD3-s5-selected.png\">\n",
    "</div>\n",
    "<div style=\"text-align:center; font-size:80%\">Exemple de résultat avec une liste de sélection</div>"
   ]
  },
  {
   "cell_type": "markdown",
   "metadata": {},
   "source": [
    "<div style=\"background-color:#eef;padding:10px;border-radius:3px\">\n",
    "<b>4.2 -</b> En l'état actuel des choses, le serveur <tt>TD3-s5.py</tt> est capable de renvoyer les informations relatives à un point d'intérêt au format HTML.\n",
    "<p>Créez une nouvelle version de serveur nommée <tt>TD3-s6.py</tt> qui renvoie cette fois-ci les informations au format JSON.\n",
    "<p>\n",
    "Pour faciliter la suite, la structure de la réponse devra être la suivante :\n",
    "<pre>{\n",
    "  \"dbpedia\":  \"<span>http:</span><span>//dbpedia.org</span>/resource/...\",\n",
    "  \"wiki\":     \"<span>http:</span><span>//en.wikipedia.org</span>/wiki/...\",\n",
    "  \"abstract\": \"...\",\n",
    "  \"photo\":    \"<span>http:</span><span>//en.wikipedia.org</span>/...\",\n",
    "  \"other\": {\n",
    "    \"lat\":    25.1971,\n",
    "    \"lon\":    55.2741,\n",
    "    \"height\": 829.8,\n",
    "    \"date\":   \"01 octobre 2009\",\n",
    "    \"year\":   2009\n",
    "  }\n",
    "}\n",
    "</pre>\n",
    "<p>\n",
    "A noter que la donnée <tt>dbpedia</tt> doit correspondre à la première colonne de votre table. Les champs spécifiques à votre projet (plus <tt>lat</tt> et <tt>lon</tt>) sont rangés dans un dictionnaire dédié nommé <tt>other</tt>.\n",
    "</div>\n"
   ]
  },
  {
   "cell_type": "code",
   "execution_count": 3,
   "metadata": {
    "collapsed": true
   },
   "outputs": [],
   "source": [
    "%pycat TD3-s6.py"
   ]
  },
  {
   "cell_type": "markdown",
   "metadata": {
    "collapsed": true
   },
   "source": [
    "<div style=\"background-color:#eef;padding:10px;border-radius:3px\">\n",
    "<b>4.3 -</b> Créez un document <tt>TD3-s6.html</tt> sur la base du document <tt>TD3-s5.html</tt> précédent.\n",
    "\n",
    "<p>\n",
    "Ajoutez une balise &lt;div id=\"reponse\">&lt;/div>\n",
    "<p>Ajoutez également le code javascript ci-dessous dans la balise &lt;script>.\n",
    "</div>"
   ]
  },
  {
   "cell_type": "raw",
   "metadata": {},
   "source": [
    "var entity_name = entity_list_name.substring(0,entity_list_name.length-1);\n",
    "\n",
    "// Gestionnaire d'événement pour le choix dans la liste\n",
    "document.getElementById('poi').addEventListener('change',option_selected);\n",
    "\n",
    "function option_selected(e) {\n",
    "  var xhr = new XMLHttpRequest();\n",
    "  xhr.onload = function() {\n",
    "    var data = JSON.parse(this.responseText);\n",
    "\n",
    "    // Exploitation de la réponse\n",
    "    var html = '<img src=\"' + data.photo + '\">';\n",
    "    html += '<h2><a href=\"' + data.wiki + '\">' + e.target.value + '</a></h2>';\n",
    "    html += '<div><a href=\"' + data.dbpedia + '\">' + data.dbpedia + '</a></div>';\n",
    "    html += '<div id=\"other\">';\n",
    "    for( k in data.other ) {\n",
    "      html += '<span><b>' + k + '</b>: ' + data.other[k] + '</span>';\n",
    "    }\n",
    "    html += '</div>'\n",
    "    html += '<p>' + data.abstract + '</p>'\n",
    "\n",
    "    document.getElementById('reponse').innerHTML = html;\n",
    "  };\n",
    "  xhr.open('GET','/' + entity_name + '/' + e.target.value,true);\n",
    "  xhr.send();\n",
    "}"
   ]
  },
  {
   "cell_type": "markdown",
   "metadata": {},
   "source": [
    "<p>Une fois ces opérations effectuées, l'interface <a href=\"http://localhost:8080/TD3-s6.html\"><tt>TD3-s6.html</tt></a> devrait afficher les informations renvoyées par ce nouveau serveur lorsqu'on sélectionne un lieu dans la liste.\n",
    "</p>\n",
    "\n",
    "<div style=\"background-color:#eef;padding:10px;border-radius:3px\">\n",
    "Ajoutez le code CSS nécessaire pour obtenir un affichage satisfaisant :\n",
    "</div>"
   ]
  },
  {
   "cell_type": "markdown",
   "metadata": {},
   "source": [
    "\n",
    "<img src=\"TD3-s6.png\" >\n",
    "<div style=\"text-align:center; font-size:80%\">Exemple de résultat</div>"
   ]
  },
  {
   "cell_type": "markdown",
   "metadata": {},
   "source": [
    "### 5. Carte glissante (30mn)"
   ]
  },
  {
   "cell_type": "markdown",
   "metadata": {},
   "source": [
    "L'objectif est maintenant de remplacer la sélection du point d'intérêt dans notre formulaire, par un clic sur une carte glissante affichant l'ensemble des points d'intérêts disponibles."
   ]
  },
  {
   "cell_type": "markdown",
   "metadata": {},
   "source": [
    "#### a) Affichage d’une carte glissante"
   ]
  },
  {
   "cell_type": "markdown",
   "metadata": {},
   "source": [
    "Pour réaliser l’affichage d’une carte géographique glissante (slippy map) on utilise la bibliothèque javascript Leaflet (http://leafletjs.com/). Cette bibliothèque permet l’affichage d’un fond de carte utilisant des serveurs de dalles (tiles server) disponible sur Internet (on utilisera OpenStreetMap) ainsi que l’affichage de marqueurs et d’autres éléments graphiques en superposition. Tous ces éléments graphiques peuvent être rendus interactifs grâce à l’utilisation de javascript.\n"
   ]
  },
  {
   "cell_type": "markdown",
   "metadata": {},
   "source": [
    "Un exemple simple de carte glissante vous est fourni. Cet exemple intitulé _« Mes lieux insolites à la Croix-Rousse »_ montre une carte glissante de ce quartier de Lyon sur laquelle 3 points d’intérêts (<i>POI=Point of Interest</i>) sont positionnés. En cliquant sur l’un d’entre eux, une fenêtre popup s’affiche précisant le nom de ce lieu et, en-dessous de la carte, une description de ce lieu est donnée."
   ]
  },
  {
   "cell_type": "markdown",
   "metadata": {},
   "source": [
    "<div style=\"background-color:#eef;padding:10px;border-radius:3px\">\n",
    "    \n",
    "<b>5.1 - </b>Lancez le serveur <tt>TD3-lieux-insolites.py</tt> et ouvrez la page <a href=\"http://localhost:8080/TD3-lieux-insolites.html\"><tt>TD3-lieux-insolites.html</tt></a> :\n",
    "</div>\n",
    "\n",
    "<img src=\"TD3-lieux-insolites.png\" style=\"border-radius: 7px; border: 1px solid black;box-shadow: 5px 5px 5px black\">\n",
    "\n",
    "<div style=\"text-align:center; font-size:80%; margin-top:0.5em\">TD3-lieux-insolites.html en action</div>"
   ]
  },
  {
   "cell_type": "markdown",
   "metadata": {},
   "source": [
    "<div style=\"background-color:#efe;padding:10px;border-radius:10px\">\n",
    "    \n",
    "<b>Parenthèse culturelle</b> (à l'attention de celles et ceux qui ne connaitraient de Lyon que le trajet du C6-C6E-3-55 pour aller prendre leur TGV le vendredi soir) : \n",
    "\n",
    "La Croix-Rousse est un quartier situé au nord de Lyon réputé pour son glorieux passé lié au tissage de la soie (La Fabrique, la révolte des Canuts, les premiers syndicats ouvriers, la naissance du mouvement mutualiste, etc.) et surtout pour la présence de la fanfare Piston le dimanche matin sur le marché du boulevard…"
   ]
  },
  {
   "cell_type": "markdown",
   "metadata": {},
   "source": [
    "Techniquement, exactement comme lors de la question précédente, au moment du chargement de la page une première requête AJAX est faite pour récupérer la liste des POI depuis le serveur, sauf qu'ils sont affichés sur la carte glissante à l’aide d’une fonction javascript de la bibliothèque _Leaflet_ au lieu d'être ajoutés à une liste de sélection.\n",
    "\n",
    "A chaque clic sur un POI (comme précédemment lors d'une sélection dans la liste), une autre requête AJAX est déclenchée pour récupérer la description associée au POI et l’afficher dans la zone prévue sous la carte."
   ]
  },
  {
   "cell_type": "markdown",
   "metadata": {},
   "source": [
    "#### b) Intégration d'une carte à votre application"
   ]
  },
  {
   "cell_type": "markdown",
   "metadata": {},
   "source": [
    "<div style=\"background-color:#eef;padding:10px;border-radius:3px\">\n",
    "    \n",
    "<b>5.2 -</b> Développez une nouvelle interface <a href=\"http://localhost:8080/TD3-s7.html\"><tt>TD3-s7.html</tt></a> qui reprend le travail de la section 4 en intégrant une carte glissante du monde. Cette carte affichera les POI correspondant à votre projet. En cliquant sur un marqueur, les informations relatives au POI apparaîtront. \n",
    "</div>\n",
    "\n",
    "<img src=\"TD3-s7.png\" style=\"border-radius: 7px; border: 1px solid black;box-shadow: 5px 5px 5px black\">\n",
    "<div style=\"text-align:center; font-size:80%; margin-top:0.5em\">Exemple de présentation</div>\n"
   ]
  },
  {
   "cell_type": "markdown",
   "metadata": {},
   "source": [
    "<p>Cette opération peut être effctuée en partant de <tt>TD3-s6.html</tt> et en récupérant des fragments de code depuis <tt>TD3-lieux-insolites.html</tt> :\n",
    "</p>\n",
    "<ul>\n",
    "<li>ajoutez les liens vers <tt>leaflet.js</tt> et <tt>leaflet.css</tt>,</li>\n",
    "<li>remplacez le <tt>&lt;select></tt> par un <tt>&lt;div id=\"map\"></tt> pour recevoir la carte,</li>\n",
    "<li>imposez des dimensions à la carte via CSS,</li>\n",
    "<li>ajoutez les lignes d'appel à leaflet permettant la création de la carte, modifiez le niveau de zoom à 1, et éventuellement les coordonnées du centre de la carte</li>\n",
    "<li>remplacez le bloc \"création des options dans la liste\" par la \"boucle sur les lieux\"</li>\n",
    "<li>dans ce même paragraphe, remplacez <tt>.idnum = data[n].id;</tt> par\n",
    "<tt>.idnum = data[n].name;</tt>,</li>\n",
    "<li>supprimez l'enregistrement du \"Gestionnaire d'événement pour le choix dans la liste\"</li>\n",
    "<li>renommez la fonction <tt>option_selected</tt> en <tt>OnMarkerClick</tt>,</li>\n",
    "<li>ajoutez la ligne permettant la récupération du nom du lieu dans la variable <tt>site_name</tt> via la propriété personnalisée du marqueur, et juste en-dessous mettez à jour le lien pour la récupération des infos d'un point d'intérêt,\n",
    "<li>un peu plus haut, mettez à jour le contenu de la balise <tt>&lt;h2></tt> générée, avec la variable <tt>site_name</tt>,\n",
    "<li>peaufinez le CSS.</li>\n",
    "</ul>"
   ]
  },
  {
   "cell_type": "code",
   "execution_count": 4,
   "metadata": {
    "collapsed": true
   },
   "outputs": [],
   "source": []
  }
 ],
 "metadata": {
  "kernelspec": {
   "display_name": "Python 3",
   "language": "python",
   "name": "python3"
  },
  "language_info": {
   "codemirror_mode": {
    "name": "ipython",
    "version": 3
   },
   "file_extension": ".py",
   "mimetype": "text/x-python",
   "name": "python",
   "nbconvert_exporter": "python",
   "pygments_lexer": "ipython3",
   "version": "3.8.8"
  }
 },
 "nbformat": 4,
 "nbformat_minor": 2
}
